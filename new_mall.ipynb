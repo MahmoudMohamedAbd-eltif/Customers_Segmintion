{
 "cells": [
  {
   "cell_type": "code",
   "execution_count": 3,
   "id": "8e1182f4",
   "metadata": {},
   "outputs": [],
   "source": [
    "import pandas as pd\n",
    "import numpy as np\n",
    "df = pd.read_csv(\"Data\\Mall_Customers.csv\")\n",
    "\n",
    "\n"
   ]
  },
  {
   "cell_type": "markdown",
   "id": "a3a4cdf5",
   "metadata": {},
   "source": [
    "EDA"
   ]
  },
  {
   "cell_type": "code",
   "execution_count": 2,
   "id": "6ca098f3",
   "metadata": {},
   "outputs": [
    {
     "data": {
      "application/vnd.microsoft.datawrangler.viewer.v0+json": {
       "columns": [
        {
         "name": "index",
         "rawType": "int64",
         "type": "integer"
        },
        {
         "name": "CustomerID",
         "rawType": "int64",
         "type": "integer"
        },
        {
         "name": "Genre",
         "rawType": "object",
         "type": "string"
        },
        {
         "name": "Age",
         "rawType": "int64",
         "type": "integer"
        },
        {
         "name": "Annual Income (k$)",
         "rawType": "int64",
         "type": "integer"
        },
        {
         "name": "Spending Score (1-100)",
         "rawType": "int64",
         "type": "integer"
        }
       ],
       "ref": "24a77a54-feea-400b-b313-49ca1645a771",
       "rows": [
        [
         "0",
         "1",
         "Male",
         "19",
         "15",
         "39"
        ],
        [
         "1",
         "2",
         "Male",
         "21",
         "15",
         "81"
        ],
        [
         "2",
         "3",
         "Female",
         "20",
         "16",
         "6"
        ],
        [
         "3",
         "4",
         "Female",
         "23",
         "16",
         "77"
        ],
        [
         "4",
         "5",
         "Female",
         "31",
         "17",
         "40"
        ],
        [
         "5",
         "6",
         "Female",
         "22",
         "17",
         "76"
        ],
        [
         "6",
         "7",
         "Female",
         "35",
         "18",
         "6"
        ],
        [
         "7",
         "8",
         "Female",
         "23",
         "18",
         "94"
        ],
        [
         "8",
         "9",
         "Male",
         "64",
         "19",
         "3"
        ],
        [
         "9",
         "10",
         "Female",
         "30",
         "19",
         "72"
        ],
        [
         "10",
         "11",
         "Male",
         "67",
         "19",
         "14"
        ],
        [
         "11",
         "12",
         "Female",
         "35",
         "19",
         "99"
        ],
        [
         "12",
         "13",
         "Female",
         "58",
         "20",
         "15"
        ],
        [
         "13",
         "14",
         "Female",
         "24",
         "20",
         "77"
        ],
        [
         "14",
         "15",
         "Male",
         "37",
         "20",
         "13"
        ],
        [
         "15",
         "16",
         "Male",
         "22",
         "20",
         "79"
        ],
        [
         "16",
         "17",
         "Female",
         "35",
         "21",
         "35"
        ],
        [
         "17",
         "18",
         "Male",
         "20",
         "21",
         "66"
        ],
        [
         "18",
         "19",
         "Male",
         "52",
         "23",
         "29"
        ],
        [
         "19",
         "20",
         "Female",
         "35",
         "23",
         "98"
        ],
        [
         "20",
         "21",
         "Male",
         "35",
         "24",
         "35"
        ],
        [
         "21",
         "22",
         "Male",
         "25",
         "24",
         "73"
        ],
        [
         "22",
         "23",
         "Female",
         "46",
         "25",
         "5"
        ],
        [
         "23",
         "24",
         "Male",
         "31",
         "25",
         "73"
        ],
        [
         "24",
         "25",
         "Female",
         "54",
         "28",
         "14"
        ],
        [
         "25",
         "26",
         "Male",
         "29",
         "28",
         "82"
        ],
        [
         "26",
         "27",
         "Female",
         "45",
         "28",
         "32"
        ],
        [
         "27",
         "28",
         "Male",
         "35",
         "28",
         "61"
        ],
        [
         "28",
         "29",
         "Female",
         "40",
         "29",
         "31"
        ],
        [
         "29",
         "30",
         "Female",
         "23",
         "29",
         "87"
        ],
        [
         "30",
         "31",
         "Male",
         "60",
         "30",
         "4"
        ],
        [
         "31",
         "32",
         "Female",
         "21",
         "30",
         "73"
        ],
        [
         "32",
         "33",
         "Male",
         "53",
         "33",
         "4"
        ],
        [
         "33",
         "34",
         "Male",
         "18",
         "33",
         "92"
        ],
        [
         "34",
         "35",
         "Female",
         "49",
         "33",
         "14"
        ],
        [
         "35",
         "36",
         "Female",
         "21",
         "33",
         "81"
        ],
        [
         "36",
         "37",
         "Female",
         "42",
         "34",
         "17"
        ],
        [
         "37",
         "38",
         "Female",
         "30",
         "34",
         "73"
        ],
        [
         "38",
         "39",
         "Female",
         "36",
         "37",
         "26"
        ],
        [
         "39",
         "40",
         "Female",
         "20",
         "37",
         "75"
        ],
        [
         "40",
         "41",
         "Female",
         "65",
         "38",
         "35"
        ],
        [
         "41",
         "42",
         "Male",
         "24",
         "38",
         "92"
        ],
        [
         "42",
         "43",
         "Male",
         "48",
         "39",
         "36"
        ],
        [
         "43",
         "44",
         "Female",
         "31",
         "39",
         "61"
        ],
        [
         "44",
         "45",
         "Female",
         "49",
         "39",
         "28"
        ],
        [
         "45",
         "46",
         "Female",
         "24",
         "39",
         "65"
        ],
        [
         "46",
         "47",
         "Female",
         "50",
         "40",
         "55"
        ],
        [
         "47",
         "48",
         "Female",
         "27",
         "40",
         "47"
        ],
        [
         "48",
         "49",
         "Female",
         "29",
         "40",
         "42"
        ],
        [
         "49",
         "50",
         "Female",
         "31",
         "40",
         "42"
        ]
       ],
       "shape": {
        "columns": 5,
        "rows": 200
       }
      },
      "text/html": [
       "<div>\n",
       "<style scoped>\n",
       "    .dataframe tbody tr th:only-of-type {\n",
       "        vertical-align: middle;\n",
       "    }\n",
       "\n",
       "    .dataframe tbody tr th {\n",
       "        vertical-align: top;\n",
       "    }\n",
       "\n",
       "    .dataframe thead th {\n",
       "        text-align: right;\n",
       "    }\n",
       "</style>\n",
       "<table border=\"1\" class=\"dataframe\">\n",
       "  <thead>\n",
       "    <tr style=\"text-align: right;\">\n",
       "      <th></th>\n",
       "      <th>CustomerID</th>\n",
       "      <th>Genre</th>\n",
       "      <th>Age</th>\n",
       "      <th>Annual Income (k$)</th>\n",
       "      <th>Spending Score (1-100)</th>\n",
       "    </tr>\n",
       "  </thead>\n",
       "  <tbody>\n",
       "    <tr>\n",
       "      <th>0</th>\n",
       "      <td>1</td>\n",
       "      <td>Male</td>\n",
       "      <td>19</td>\n",
       "      <td>15</td>\n",
       "      <td>39</td>\n",
       "    </tr>\n",
       "    <tr>\n",
       "      <th>1</th>\n",
       "      <td>2</td>\n",
       "      <td>Male</td>\n",
       "      <td>21</td>\n",
       "      <td>15</td>\n",
       "      <td>81</td>\n",
       "    </tr>\n",
       "    <tr>\n",
       "      <th>2</th>\n",
       "      <td>3</td>\n",
       "      <td>Female</td>\n",
       "      <td>20</td>\n",
       "      <td>16</td>\n",
       "      <td>6</td>\n",
       "    </tr>\n",
       "    <tr>\n",
       "      <th>3</th>\n",
       "      <td>4</td>\n",
       "      <td>Female</td>\n",
       "      <td>23</td>\n",
       "      <td>16</td>\n",
       "      <td>77</td>\n",
       "    </tr>\n",
       "    <tr>\n",
       "      <th>4</th>\n",
       "      <td>5</td>\n",
       "      <td>Female</td>\n",
       "      <td>31</td>\n",
       "      <td>17</td>\n",
       "      <td>40</td>\n",
       "    </tr>\n",
       "    <tr>\n",
       "      <th>...</th>\n",
       "      <td>...</td>\n",
       "      <td>...</td>\n",
       "      <td>...</td>\n",
       "      <td>...</td>\n",
       "      <td>...</td>\n",
       "    </tr>\n",
       "    <tr>\n",
       "      <th>195</th>\n",
       "      <td>196</td>\n",
       "      <td>Female</td>\n",
       "      <td>35</td>\n",
       "      <td>120</td>\n",
       "      <td>79</td>\n",
       "    </tr>\n",
       "    <tr>\n",
       "      <th>196</th>\n",
       "      <td>197</td>\n",
       "      <td>Female</td>\n",
       "      <td>45</td>\n",
       "      <td>126</td>\n",
       "      <td>28</td>\n",
       "    </tr>\n",
       "    <tr>\n",
       "      <th>197</th>\n",
       "      <td>198</td>\n",
       "      <td>Male</td>\n",
       "      <td>32</td>\n",
       "      <td>126</td>\n",
       "      <td>74</td>\n",
       "    </tr>\n",
       "    <tr>\n",
       "      <th>198</th>\n",
       "      <td>199</td>\n",
       "      <td>Male</td>\n",
       "      <td>32</td>\n",
       "      <td>137</td>\n",
       "      <td>18</td>\n",
       "    </tr>\n",
       "    <tr>\n",
       "      <th>199</th>\n",
       "      <td>200</td>\n",
       "      <td>Male</td>\n",
       "      <td>30</td>\n",
       "      <td>137</td>\n",
       "      <td>83</td>\n",
       "    </tr>\n",
       "  </tbody>\n",
       "</table>\n",
       "<p>200 rows × 5 columns</p>\n",
       "</div>"
      ],
      "text/plain": [
       "     CustomerID   Genre  Age  Annual Income (k$)  Spending Score (1-100)\n",
       "0             1    Male   19                  15                      39\n",
       "1             2    Male   21                  15                      81\n",
       "2             3  Female   20                  16                       6\n",
       "3             4  Female   23                  16                      77\n",
       "4             5  Female   31                  17                      40\n",
       "..          ...     ...  ...                 ...                     ...\n",
       "195         196  Female   35                 120                      79\n",
       "196         197  Female   45                 126                      28\n",
       "197         198    Male   32                 126                      74\n",
       "198         199    Male   32                 137                      18\n",
       "199         200    Male   30                 137                      83\n",
       "\n",
       "[200 rows x 5 columns]"
      ]
     },
     "execution_count": 2,
     "metadata": {},
     "output_type": "execute_result"
    }
   ],
   "source": [
    "df"
   ]
  },
  {
   "cell_type": "code",
   "execution_count": 4,
   "id": "ca0b25a8",
   "metadata": {},
   "outputs": [
    {
     "name": "stdout",
     "output_type": "stream",
     "text": [
      "<class 'pandas.core.frame.DataFrame'>\n",
      "RangeIndex: 200 entries, 0 to 199\n",
      "Data columns (total 5 columns):\n",
      " #   Column                  Non-Null Count  Dtype \n",
      "---  ------                  --------------  ----- \n",
      " 0   CustomerID              200 non-null    int64 \n",
      " 1   Genre                   200 non-null    object\n",
      " 2   Age                     200 non-null    int64 \n",
      " 3   Annual Income (k$)      200 non-null    int64 \n",
      " 4   Spending Score (1-100)  200 non-null    int64 \n",
      "dtypes: int64(4), object(1)\n",
      "memory usage: 7.9+ KB\n"
     ]
    }
   ],
   "source": [
    "df.shape\n",
    "df.info()"
   ]
  },
  {
   "cell_type": "code",
   "execution_count": 6,
   "id": "8cd33e9d",
   "metadata": {},
   "outputs": [
    {
     "data": {
      "application/vnd.microsoft.datawrangler.viewer.v0+json": {
       "columns": [
        {
         "name": "index",
         "rawType": "object",
         "type": "string"
        },
        {
         "name": "0",
         "rawType": "int64",
         "type": "integer"
        }
       ],
       "ref": "2e002d5e-1fa1-46ab-b692-fe1e6098091c",
       "rows": [
        [
         "CustomerID",
         "0"
        ],
        [
         "Genre",
         "0"
        ],
        [
         "Age",
         "0"
        ],
        [
         "Annual Income (k$)",
         "0"
        ],
        [
         "Spending Score (1-100)",
         "0"
        ]
       ],
       "shape": {
        "columns": 1,
        "rows": 5
       }
      },
      "text/plain": [
       "CustomerID                0\n",
       "Genre                     0\n",
       "Age                       0\n",
       "Annual Income (k$)        0\n",
       "Spending Score (1-100)    0\n",
       "dtype: int64"
      ]
     },
     "execution_count": 6,
     "metadata": {},
     "output_type": "execute_result"
    }
   ],
   "source": [
    "df.isnull().sum()"
   ]
  },
  {
   "cell_type": "code",
   "execution_count": 7,
   "id": "bfd882c7",
   "metadata": {},
   "outputs": [
    {
     "name": "stdout",
     "output_type": "stream",
     "text": [
      "       CustomerID         Age  Annual Income (k$)  Spending Score (1-100)\n",
      "count  200.000000  200.000000          200.000000              200.000000\n",
      "mean   100.500000   38.850000           60.560000               50.200000\n",
      "std     57.879185   13.969007           26.264721               25.823522\n",
      "min      1.000000   18.000000           15.000000                1.000000\n",
      "25%     50.750000   28.750000           41.500000               34.750000\n",
      "50%    100.500000   36.000000           61.500000               50.000000\n",
      "75%    150.250000   49.000000           78.000000               73.000000\n",
      "max    200.000000   70.000000          137.000000               99.000000\n"
     ]
    }
   ],
   "source": [
    "print(df.describe()\n",
    ")"
   ]
  },
  {
   "cell_type": "code",
   "execution_count": 8,
   "id": "e707523e",
   "metadata": {},
   "outputs": [
    {
     "data": {
      "image/png": "[encoded data removed]",
      "text/plain": [
       "<Figure size 1200x1000 with 4 Axes>"
      ]
     },
     "metadata": {},
     "output_type": "display_data"
    }
   ],
   "source": [
    "import matplotlib.pyplot as plt   \n",
    "import seaborn as sns           \n",
    "\n",
    "fig, axes = plt.subplots(2, 2, figsize=(12, 10))\n",
    "\n",
    "sns.histplot(df['Age'], bins=20, kde=True, ax=axes[0,0])\n",
    "axes[0,0].set_title(\"Age Distribution\")\n",
    "axes[0,0].set_xlabel(\"Age\")\n",
    "axes[0,0].set_ylabel(\"Count\")\n",
    "\n",
    "sns.histplot(df['Annual Income (k$)'], bins=20, kde=True, ax=axes[0,1])\n",
    "axes[0,1].set_title(\"Annual Income Distribution\")\n",
    "axes[0,1].set_xlabel(\"Annual Income (k$)\")\n",
    "axes[0,1].set_ylabel(\"Count\")\n",
    "\n",
    "sns.histplot(df['Spending Score (1-100)'], bins=20, kde=True, ax=axes[1,0])\n",
    "axes[1,0].set_title(\"Spending Score Distribution\")\n",
    "axes[1,0].set_xlabel(\"Spending Score\")\n",
    "axes[1,0].set_ylabel(\"Count\")\n",
    "\n",
    "sns.countplot(x='Genre', data=df, ax=axes[1,1])\n",
    "axes[1,1].set_title(\"Genre Count\")\n",
    "axes[1,1].set_xlabel(\"Genre\")\n",
    "axes[1,1].set_ylabel(\"Count\")\n",
    "\n",
    "\n",
    "plt.tight_layout()\n",
    "plt.show()\n"
   ]
  },
  {
   "cell_type": "code",
   "execution_count": 9,
   "id": "d26a2b34",
   "metadata": {},
   "outputs": [
    {
     "data": {
      "image/png": "[encoded data removed]",
      "text/plain": [
       "<Figure size 800x600 with 2 Axes>"
      ]
     },
     "metadata": {},
     "output_type": "display_data"
    }
   ],
   "source": [
    "import matplotlib.pyplot as plt\n",
    "import seaborn as sns\n",
    "\n",
    "corr = df.corr(numeric_only=True)\n",
    "\n",
    "plt.figure(figsize=(8,6))\n",
    "sns.heatmap(corr, annot=True, cmap=\"Blues\", linewidths=0.5)\n",
    "plt.title(\"Correlation Heatmap\")\n",
    "plt.show()\n"
   ]
  },
  {
   "cell_type": "code",
   "execution_count": 10,
   "id": "589423f6",
   "metadata": {},
   "outputs": [
    {
     "data": {
      "application/vnd.microsoft.datawrangler.viewer.v0+json": {
       "columns": [
        {
         "name": "index",
         "rawType": "int64",
         "type": "integer"
        },
        {
         "name": "Age",
         "rawType": "int64",
         "type": "integer"
        },
        {
         "name": "Annual Income (k$)",
         "rawType": "int64",
         "type": "integer"
        },
        {
         "name": "Spending Score (1-100)",
         "rawType": "int64",
         "type": "integer"
        }
       ],
       "ref": "2d83e315-ad4a-436f-bb59-14f2980288f3",
       "rows": [
        [
         "0",
         "19",
         "15",
         "39"
        ],
        [
         "1",
         "21",
         "15",
         "81"
        ],
        [
         "2",
         "20",
         "16",
         "6"
        ],
        [
         "3",
         "23",
         "16",
         "77"
        ],
        [
         "4",
         "31",
         "17",
         "40"
        ],
        [
         "5",
         "22",
         "17",
         "76"
        ],
        [
         "6",
         "35",
         "18",
         "6"
        ],
        [
         "7",
         "23",
         "18",
         "94"
        ],
        [
         "8",
         "64",
         "19",
         "3"
        ],
        [
         "9",
         "30",
         "19",
         "72"
        ],
        [
         "10",
         "67",
         "19",
         "14"
        ],
        [
         "11",
         "35",
         "19",
         "99"
        ],
        [
         "12",
         "58",
         "20",
         "15"
        ],
        [
         "13",
         "24",
         "20",
         "77"
        ],
        [
         "14",
         "37",
         "20",
         "13"
        ],
        [
         "15",
         "22",
         "20",
         "79"
        ],
        [
         "16",
         "35",
         "21",
         "35"
        ],
        [
         "17",
         "20",
         "21",
         "66"
        ],
        [
         "18",
         "52",
         "23",
         "29"
        ],
        [
         "19",
         "35",
         "23",
         "98"
        ],
        [
         "20",
         "35",
         "24",
         "35"
        ],
        [
         "21",
         "25",
         "24",
         "73"
        ],
        [
         "22",
         "46",
         "25",
         "5"
        ],
        [
         "23",
         "31",
         "25",
         "73"
        ],
        [
         "24",
         "54",
         "28",
         "14"
        ],
        [
         "25",
         "29",
         "28",
         "82"
        ],
        [
         "26",
         "45",
         "28",
         "32"
        ],
        [
         "27",
         "35",
         "28",
         "61"
        ],
        [
         "28",
         "40",
         "29",
         "31"
        ],
        [
         "29",
         "23",
         "29",
         "87"
        ],
        [
         "30",
         "60",
         "30",
         "4"
        ],
        [
         "31",
         "21",
         "30",
         "73"
        ],
        [
         "32",
         "53",
         "33",
         "4"
        ],
        [
         "33",
         "18",
         "33",
         "92"
        ],
        [
         "34",
         "49",
         "33",
         "14"
        ],
        [
         "35",
         "21",
         "33",
         "81"
        ],
        [
         "36",
         "42",
         "34",
         "17"
        ],
        [
         "37",
         "30",
         "34",
         "73"
        ],
        [
         "38",
         "36",
         "37",
         "26"
        ],
        [
         "39",
         "20",
         "37",
         "75"
        ],
        [
         "40",
         "65",
         "38",
         "35"
        ],
        [
         "41",
         "24",
         "38",
         "92"
        ],
        [
         "42",
         "48",
         "39",
         "36"
        ],
        [
         "43",
         "31",
         "39",
         "61"
        ],
        [
         "44",
         "49",
         "39",
         "28"
        ],
        [
         "45",
         "24",
         "39",
         "65"
        ],
        [
         "46",
         "50",
         "40",
         "55"
        ],
        [
         "47",
         "27",
         "40",
         "47"
        ],
        [
         "48",
         "29",
         "40",
         "42"
        ],
        [
         "49",
         "31",
         "40",
         "42"
        ]
       ],
       "shape": {
        "columns": 3,
        "rows": 200
       }
      },
      "text/html": [
       "<div>\n",
       "<style scoped>\n",
       "    .dataframe tbody tr th:only-of-type {\n",
       "        vertical-align: middle;\n",
       "    }\n",
       "\n",
       "    .dataframe tbody tr th {\n",
       "        vertical-align: top;\n",
       "    }\n",
       "\n",
       "    .dataframe thead th {\n",
       "        text-align: right;\n",
       "    }\n",
       "</style>\n",
       "<table border=\"1\" class=\"dataframe\">\n",
       "  <thead>\n",
       "    <tr style=\"text-align: right;\">\n",
       "      <th></th>\n",
       "      <th>Age</th>\n",
       "      <th>Annual Income (k$)</th>\n",
       "      <th>Spending Score (1-100)</th>\n",
       "    </tr>\n",
       "  </thead>\n",
       "  <tbody>\n",
       "    <tr>\n",
       "      <th>0</th>\n",
       "      <td>19</td>\n",
       "      <td>15</td>\n",
       "      <td>39</td>\n",
       "    </tr>\n",
       "    <tr>\n",
       "      <th>1</th>\n",
       "      <td>21</td>\n",
       "      <td>15</td>\n",
       "      <td>81</td>\n",
       "    </tr>\n",
       "    <tr>\n",
       "      <th>2</th>\n",
       "      <td>20</td>\n",
       "      <td>16</td>\n",
       "      <td>6</td>\n",
       "    </tr>\n",
       "    <tr>\n",
       "      <th>3</th>\n",
       "      <td>23</td>\n",
       "      <td>16</td>\n",
       "      <td>77</td>\n",
       "    </tr>\n",
       "    <tr>\n",
       "      <th>4</th>\n",
       "      <td>31</td>\n",
       "      <td>17</td>\n",
       "      <td>40</td>\n",
       "    </tr>\n",
       "    <tr>\n",
       "      <th>...</th>\n",
       "      <td>...</td>\n",
       "      <td>...</td>\n",
       "      <td>...</td>\n",
       "    </tr>\n",
       "    <tr>\n",
       "      <th>195</th>\n",
       "      <td>35</td>\n",
       "      <td>120</td>\n",
       "      <td>79</td>\n",
       "    </tr>\n",
       "    <tr>\n",
       "      <th>196</th>\n",
       "      <td>45</td>\n",
       "      <td>126</td>\n",
       "      <td>28</td>\n",
       "    </tr>\n",
       "    <tr>\n",
       "      <th>197</th>\n",
       "      <td>32</td>\n",
       "      <td>126</td>\n",
       "      <td>74</td>\n",
       "    </tr>\n",
       "    <tr>\n",
       "      <th>198</th>\n",
       "      <td>32</td>\n",
       "      <td>137</td>\n",
       "      <td>18</td>\n",
       "    </tr>\n",
       "    <tr>\n",
       "      <th>199</th>\n",
       "      <td>30</td>\n",
       "      <td>137</td>\n",
       "      <td>83</td>\n",
       "    </tr>\n",
       "  </tbody>\n",
       "</table>\n",
       "<p>200 rows × 3 columns</p>\n",
       "</div>"
      ],
      "text/plain": [
       "     Age  Annual Income (k$)  Spending Score (1-100)\n",
       "0     19                  15                      39\n",
       "1     21                  15                      81\n",
       "2     20                  16                       6\n",
       "3     23                  16                      77\n",
       "4     31                  17                      40\n",
       "..   ...                 ...                     ...\n",
       "195   35                 120                      79\n",
       "196   45                 126                      28\n",
       "197   32                 126                      74\n",
       "198   32                 137                      18\n",
       "199   30                 137                      83\n",
       "\n",
       "[200 rows x 3 columns]"
      ]
     },
     "execution_count": 10,
     "metadata": {},
     "output_type": "execute_result"
    }
   ],
   "source": [
    "X = df[['Age', 'Annual Income (k$)', 'Spending Score (1-100)']]\n",
    "X"
   ]
  },
  {
   "cell_type": "code",
   "execution_count": 11,
   "id": "67c03b8c",
   "metadata": {},
   "outputs": [
    {
     "data": {
      "text/plain": [
       "array([[-1.42456879, -1.73899919, -0.43480148],\n",
       "       [-1.28103541, -1.73899919,  1.19570407],\n",
       "       [-1.3528021 , -1.70082976, -1.71591298],\n",
       "       [-1.13750203, -1.70082976,  1.04041783],\n",
       "       [-0.56336851, -1.66266033, -0.39597992],\n",
       "       [-1.20926872, -1.66266033,  1.00159627],\n",
       "       [-0.27630176, -1.62449091, -1.71591298],\n",
       "       [-1.13750203, -1.62449091,  1.70038436],\n",
       "       [ 1.80493225, -1.58632148, -1.83237767],\n",
       "       [-0.6351352 , -1.58632148,  0.84631002],\n",
       "       [ 2.02023231, -1.58632148, -1.4053405 ],\n",
       "       [-0.27630176, -1.58632148,  1.89449216],\n",
       "       [ 1.37433211, -1.54815205, -1.36651894],\n",
       "       [-1.06573534, -1.54815205,  1.04041783],\n",
       "       [-0.13276838, -1.54815205, -1.44416206],\n",
       "       [-1.20926872, -1.54815205,  1.11806095],\n",
       "       [-0.27630176, -1.50998262, -0.59008772],\n",
       "       [-1.3528021 , -1.50998262,  0.61338066],\n",
       "       [ 0.94373197, -1.43364376, -0.82301709],\n",
       "       [-0.27630176, -1.43364376,  1.8556706 ],\n",
       "       [-0.27630176, -1.39547433, -0.59008772],\n",
       "       [-0.99396865, -1.39547433,  0.88513158],\n",
       "       [ 0.51313183, -1.3573049 , -1.75473454],\n",
       "       [-0.56336851, -1.3573049 ,  0.88513158],\n",
       "       [ 1.08726535, -1.24279661, -1.4053405 ],\n",
       "       [-0.70690189, -1.24279661,  1.23452563],\n",
       "       [ 0.44136514, -1.24279661, -0.7065524 ],\n",
       "       [-0.27630176, -1.24279661,  0.41927286],\n",
       "       [ 0.08253169, -1.20462718, -0.74537397],\n",
       "       [-1.13750203, -1.20462718,  1.42863343],\n",
       "       [ 1.51786549, -1.16645776, -1.7935561 ],\n",
       "       [-1.28103541, -1.16645776,  0.88513158],\n",
       "       [ 1.01549866, -1.05194947, -1.7935561 ],\n",
       "       [-1.49633548, -1.05194947,  1.62274124],\n",
       "       [ 0.7284319 , -1.05194947, -1.4053405 ],\n",
       "       [-1.28103541, -1.05194947,  1.19570407],\n",
       "       [ 0.22606507, -1.01378004, -1.28887582],\n",
       "       [-0.6351352 , -1.01378004,  0.88513158],\n",
       "       [-0.20453507, -0.89927175, -0.93948177],\n",
       "       [-1.3528021 , -0.89927175,  0.96277471],\n",
       "       [ 1.87669894, -0.86110232, -0.59008772],\n",
       "       [-1.06573534, -0.86110232,  1.62274124],\n",
       "       [ 0.65666521, -0.82293289, -0.55126616],\n",
       "       [-0.56336851, -0.82293289,  0.41927286],\n",
       "       [ 0.7284319 , -0.82293289, -0.86183865],\n",
       "       [-1.06573534, -0.82293289,  0.5745591 ],\n",
       "       [ 0.80019859, -0.78476346,  0.18634349],\n",
       "       [-0.85043527, -0.78476346, -0.12422899],\n",
       "       [-0.70690189, -0.78476346, -0.3183368 ],\n",
       "       [-0.56336851, -0.78476346, -0.3183368 ],\n",
       "       [ 0.7284319 , -0.70842461,  0.06987881],\n",
       "       [-0.41983513, -0.70842461,  0.38045129],\n",
       "       [-0.56336851, -0.67025518,  0.14752193],\n",
       "       [ 1.4460988 , -0.67025518,  0.38045129],\n",
       "       [ 0.80019859, -0.67025518, -0.20187212],\n",
       "       [ 0.58489852, -0.67025518, -0.35715836],\n",
       "       [ 0.87196528, -0.63208575, -0.00776431],\n",
       "       [ 2.16376569, -0.63208575, -0.16305055],\n",
       "       [-0.85043527, -0.55574689,  0.03105725],\n",
       "       [ 1.01549866, -0.55574689, -0.16305055],\n",
       "       [ 2.23553238, -0.55574689,  0.22516505],\n",
       "       [-1.42456879, -0.55574689,  0.18634349],\n",
       "       [ 2.02023231, -0.51757746,  0.06987881],\n",
       "       [ 1.08726535, -0.51757746,  0.34162973],\n",
       "       [ 1.73316556, -0.47940803,  0.03105725],\n",
       "       [-1.49633548, -0.47940803,  0.34162973],\n",
       "       [ 0.29783176, -0.47940803, -0.00776431],\n",
       "       [ 2.091999  , -0.47940803, -0.08540743],\n",
       "       [-1.42456879, -0.47940803,  0.34162973],\n",
       "       [-0.49160182, -0.47940803, -0.12422899],\n",
       "       [ 2.23553238, -0.4412386 ,  0.18634349],\n",
       "       [ 0.58489852, -0.4412386 , -0.3183368 ],\n",
       "       [ 1.51786549, -0.40306917, -0.04658587],\n",
       "       [ 1.51786549, -0.40306917,  0.22516505],\n",
       "       [ 1.4460988 , -0.25039146, -0.12422899],\n",
       "       [-0.92220196, -0.25039146,  0.14752193],\n",
       "       [ 0.44136514, -0.25039146,  0.10870037],\n",
       "       [ 0.08253169, -0.25039146, -0.08540743],\n",
       "       [-1.13750203, -0.25039146,  0.06987881],\n",
       "       [ 0.7284319 , -0.25039146, -0.3183368 ],\n",
       "       [ 1.30256542, -0.25039146,  0.03105725],\n",
       "       [-0.06100169, -0.25039146,  0.18634349],\n",
       "       [ 2.02023231, -0.25039146, -0.35715836],\n",
       "       [ 0.51313183, -0.25039146, -0.24069368],\n",
       "       [-1.28103541, -0.25039146,  0.26398661],\n",
       "       [ 0.65666521, -0.25039146, -0.16305055],\n",
       "       [ 1.15903204, -0.13588317,  0.30280817],\n",
       "       [-1.20926872, -0.13588317,  0.18634349],\n",
       "       [-0.34806844, -0.09771374,  0.38045129],\n",
       "       [ 0.80019859, -0.09771374, -0.16305055],\n",
       "       [ 2.091999  , -0.05954431,  0.18634349],\n",
       "       [-1.49633548, -0.05954431, -0.35715836],\n",
       "       [ 0.65666521, -0.02137488, -0.04658587],\n",
       "       [ 0.08253169, -0.02137488, -0.39597992],\n",
       "       [-0.49160182, -0.02137488, -0.3183368 ],\n",
       "       [-1.06573534, -0.02137488,  0.06987881],\n",
       "       [ 0.58489852, -0.02137488, -0.12422899],\n",
       "       [-0.85043527, -0.02137488, -0.00776431],\n",
       "       [ 0.65666521,  0.01679455, -0.3183368 ],\n",
       "       [-1.3528021 ,  0.01679455, -0.04658587],\n",
       "       [-1.13750203,  0.05496398, -0.35715836],\n",
       "       [ 0.7284319 ,  0.05496398, -0.08540743],\n",
       "       [ 2.02023231,  0.05496398,  0.34162973],\n",
       "       [-0.92220196,  0.05496398,  0.18634349],\n",
       "       [ 0.7284319 ,  0.05496398,  0.22516505],\n",
       "       [-1.28103541,  0.05496398, -0.3183368 ],\n",
       "       [ 1.94846562,  0.09313341, -0.00776431],\n",
       "       [ 1.08726535,  0.09313341, -0.16305055],\n",
       "       [ 2.091999  ,  0.09313341, -0.27951524],\n",
       "       [ 1.94846562,  0.09313341, -0.08540743],\n",
       "       [ 1.87669894,  0.09313341,  0.06987881],\n",
       "       [-1.42456879,  0.09313341,  0.14752193],\n",
       "       [-0.06100169,  0.13130284, -0.3183368 ],\n",
       "       [-1.42456879,  0.13130284, -0.16305055],\n",
       "       [-1.49633548,  0.16947227, -0.08540743],\n",
       "       [-1.42456879,  0.16947227, -0.00776431],\n",
       "       [ 1.73316556,  0.16947227, -0.27951524],\n",
       "       [ 0.7284319 ,  0.16947227,  0.34162973],\n",
       "       [ 0.87196528,  0.24581112, -0.27951524],\n",
       "       [ 0.80019859,  0.24581112,  0.26398661],\n",
       "       [-0.85043527,  0.24581112,  0.22516505],\n",
       "       [-0.06100169,  0.24581112, -0.39597992],\n",
       "       [ 0.08253169,  0.32214998,  0.30280817],\n",
       "       [ 0.010765  ,  0.32214998,  1.58391968],\n",
       "       [-1.13750203,  0.36031941, -0.82301709],\n",
       "       [-0.56336851,  0.36031941,  1.04041783],\n",
       "       [ 0.29783176,  0.39848884, -0.59008772],\n",
       "       [ 0.08253169,  0.39848884,  1.73920592],\n",
       "       [ 1.4460988 ,  0.39848884, -1.52180518],\n",
       "       [-0.06100169,  0.39848884,  0.96277471],\n",
       "       [ 0.58489852,  0.39848884, -1.5994483 ],\n",
       "       [ 0.010765  ,  0.39848884,  0.96277471],\n",
       "       [-0.99396865,  0.43665827, -0.62890928],\n",
       "       [-0.56336851,  0.43665827,  0.80748846],\n",
       "       [-1.3528021 ,  0.4748277 , -1.75473454],\n",
       "       [-0.70690189,  0.4748277 ,  1.46745499],\n",
       "       [ 0.36959845,  0.4748277 , -1.67709142],\n",
       "       [-0.49160182,  0.4748277 ,  0.88513158],\n",
       "       [-1.42456879,  0.51299713, -1.56062674],\n",
       "       [-0.27630176,  0.51299713,  0.84631002],\n",
       "       [ 1.30256542,  0.55116656, -1.75473454],\n",
       "       [-0.49160182,  0.55116656,  1.6615628 ],\n",
       "       [-0.77866858,  0.58933599, -0.39597992],\n",
       "       [-0.49160182,  0.58933599,  1.42863343],\n",
       "       [-0.99396865,  0.62750542, -1.48298362],\n",
       "       [-0.77866858,  0.62750542,  1.81684904],\n",
       "       [ 0.65666521,  0.62750542, -0.55126616],\n",
       "       [-0.49160182,  0.62750542,  0.92395314],\n",
       "       [-0.34806844,  0.66567484, -1.09476801],\n",
       "       [-0.34806844,  0.66567484,  1.54509812],\n",
       "       [ 0.29783176,  0.66567484, -1.28887582],\n",
       "       [ 0.010765  ,  0.66567484,  1.46745499],\n",
       "       [ 0.36959845,  0.66567484, -1.17241113],\n",
       "       [-0.06100169,  0.66567484,  1.00159627],\n",
       "       [ 0.58489852,  0.66567484, -1.32769738],\n",
       "       [-0.85043527,  0.66567484,  1.50627656],\n",
       "       [-0.13276838,  0.66567484, -1.91002079],\n",
       "       [-0.6351352 ,  0.66567484,  1.07923939],\n",
       "       [-0.34806844,  0.66567484, -1.91002079],\n",
       "       [-0.6351352 ,  0.66567484,  0.88513158],\n",
       "       [ 1.23079873,  0.70384427, -0.59008772],\n",
       "       [-0.70690189,  0.70384427,  1.27334719],\n",
       "       [-1.42456879,  0.78018313, -1.75473454],\n",
       "       [-0.56336851,  0.78018313,  1.6615628 ],\n",
       "       [ 0.80019859,  0.93286085, -0.93948177],\n",
       "       [-0.20453507,  0.93286085,  0.96277471],\n",
       "       [ 0.22606507,  0.97103028, -1.17241113],\n",
       "       [-0.41983513,  0.97103028,  1.73920592],\n",
       "       [-0.20453507,  1.00919971, -0.90066021],\n",
       "       [-0.49160182,  1.00919971,  0.49691598],\n",
       "       [ 0.08253169,  1.00919971, -1.44416206],\n",
       "       [-0.77866858,  1.00919971,  0.96277471],\n",
       "       [-0.20453507,  1.00919971, -1.56062674],\n",
       "       [-0.20453507,  1.00919971,  1.62274124],\n",
       "       [ 0.94373197,  1.04736914, -1.44416206],\n",
       "       [-0.6351352 ,  1.04736914,  1.38981187],\n",
       "       [ 1.37433211,  1.04736914, -1.36651894],\n",
       "       [-0.85043527,  1.04736914,  0.72984534],\n",
       "       [ 1.4460988 ,  1.23821628, -1.4053405 ],\n",
       "       [-0.27630176,  1.23821628,  1.54509812],\n",
       "       [-0.13276838,  1.390894  , -0.7065524 ],\n",
       "       [-0.49160182,  1.390894  ,  1.38981187],\n",
       "       [ 0.51313183,  1.42906343, -1.36651894],\n",
       "       [-0.70690189,  1.42906343,  1.46745499],\n",
       "       [ 0.15429838,  1.46723286, -0.43480148],\n",
       "       [-0.6351352 ,  1.46723286,  1.81684904],\n",
       "       [ 1.08726535,  1.54357172, -1.01712489],\n",
       "       [-0.77866858,  1.54357172,  0.69102378],\n",
       "       [ 0.15429838,  1.61991057, -1.28887582],\n",
       "       [-0.20453507,  1.61991057,  1.35099031],\n",
       "       [-0.34806844,  1.61991057, -1.05594645],\n",
       "       [-0.49160182,  1.61991057,  0.72984534],\n",
       "       [-0.41983513,  2.00160487, -1.63826986],\n",
       "       [-0.06100169,  2.00160487,  1.58391968],\n",
       "       [ 0.58489852,  2.26879087, -1.32769738],\n",
       "       [-0.27630176,  2.26879087,  1.11806095],\n",
       "       [ 0.44136514,  2.49780745, -0.86183865],\n",
       "       [-0.49160182,  2.49780745,  0.92395314],\n",
       "       [-0.49160182,  2.91767117, -1.25005425],\n",
       "       [-0.6351352 ,  2.91767117,  1.27334719]])"
      ]
     },
     "execution_count": 11,
     "metadata": {},
     "output_type": "execute_result"
    }
   ],
   "source": [
    "from sklearn.preprocessing import StandardScaler\n",
    "\n",
    "scaler = StandardScaler()\n",
    "X_scaled = scaler.fit_transform(X)\n",
    "\n",
    "X_scaled"
   ]
  },
  {
   "cell_type": "code",
   "execution_count": 11,
   "id": "eeebe81d",
   "metadata": {},
   "outputs": [
    {
     "data": {
      "image/png": "[encoded data removed]",
      "text/plain": [
       "<Figure size 800x600 with 1 Axes>"
      ]
     },
     "metadata": {},
     "output_type": "display_data"
    }
   ],
   "source": [
    "plt.figure(figsize=(8,6))\n",
    "sns.scatterplot(x='Annual Income (k$)', y='Spending Score (1-100)', \n",
    "                hue='Age', palette='cool', data=df)\n",
    "plt.title(\"Income vs Spending Score (Colored by Age)\")\n",
    "plt.show()\n"
   ]
  },
  {
   "cell_type": "code",
   "execution_count": 12,
   "id": "1119c198",
   "metadata": {},
   "outputs": [
    {
     "name": "stderr",
     "output_type": "stream",
     "text": [
      "C:\\Users\\mahmo\\AppData\\Local\\Temp\\ipykernel_18132\\3110874050.py:4: MatplotlibDeprecationWarning: The 'labels' parameter of boxplot() has been renamed 'tick_labels' since Matplotlib 3.9; support for the old name will be dropped in 3.11.\n",
      "  plt.boxplot(X_scaled, labels=[\"Age\", \"Annual Income (k$)\", \"Spending Score (1-100)\"])\n"
     ]
    },
    {
     "data": {
      "image/png": "[encoded data removed]",
      "text/plain": [
       "<Figure size 1000x500 with 1 Axes>"
      ]
     },
     "metadata": {},
     "output_type": "display_data"
    }
   ],
   "source": [
    "import matplotlib.pyplot as plt\n",
    "\n",
    "plt.figure(figsize=(10,5))\n",
    "plt.boxplot(X_scaled, labels=[\"Age\", \"Annual Income (k$)\", \"Spending Score (1-100)\"])\n",
    "plt.title(\"Boxplot after Scaling\")\n",
    "plt.show()\n"
   ]
  },
  {
   "cell_type": "code",
   "execution_count": 13,
   "id": "f6b51e63",
   "metadata": {},
   "outputs": [
    {
     "data": {
      "application/vnd.microsoft.datawrangler.viewer.v0+json": {
       "columns": [
        {
         "name": "index",
         "rawType": "int64",
         "type": "integer"
        },
        {
         "name": "Age",
         "rawType": "float64",
         "type": "float"
        },
        {
         "name": "Annual Income (k$)",
         "rawType": "float64",
         "type": "float"
        },
        {
         "name": "Spending Score (1-100)",
         "rawType": "float64",
         "type": "float"
        }
       ],
       "ref": "2aa0ff00-a51d-41b3-871a-dbcbae9e1e3c",
       "rows": [
        [
         "0",
         "-1.4245687900521393",
         "-1.7389991930659485",
         "-0.43480147996914814"
        ],
        [
         "1",
         "-1.2810354107017978",
         "-1.7389991930659485",
         "1.195704069915157"
        ],
        [
         "2",
         "-1.3528021003769686",
         "-1.7008297638941763",
         "-1.7159129834496736"
        ],
        [
         "3",
         "-1.1375020313514563",
         "-1.7008297638941763",
         "1.0404178270690327"
        ],
        [
         "4",
         "-0.5633685139500905",
         "-1.6626603347224038",
         "-0.3959799192576171"
        ],
        [
         "5",
         "-1.209268721026627",
         "-1.6626603347224038",
         "1.0015962663575015"
        ],
        [
         "6",
         "-0.2763017552494075",
         "-1.6244909055506316",
         "-1.7159129834496736"
        ],
        [
         "7",
         "-1.1375020313514563",
         "-1.6244909055506316",
         "1.700384359165061"
        ],
        [
         "8",
         "1.804932245330544",
         "-1.5863214763788591",
         "-1.832377665584267"
        ],
        [
         "9",
         "-0.6351352036252612",
         "-1.5863214763788591",
         "0.8463100235113773"
        ],
        [
         "10",
         "2.0202323143560563",
         "-1.5863214763788591",
         "-1.405340497757425"
        ],
        [
         "11",
         "-0.2763017552494075",
         "-1.5863214763788591",
         "1.8944921627227165"
        ],
        [
         "12",
         "1.3743321072795196",
         "-1.5481520472070869",
         "-1.3665189370458939"
        ],
        [
         "13",
         "-1.0657353416762856",
         "-1.5481520472070869",
         "1.0404178270690327"
        ],
        [
         "14",
         "-0.13276837589906598",
         "-1.5481520472070869",
         "-1.444162058468956"
        ],
        [
         "15",
         "-1.209268721026627",
         "-1.5481520472070869",
         "1.118060948492095"
        ],
        [
         "16",
         "-0.2763017552494075",
         "-1.5099826180353144",
         "-0.5900877228152724"
        ],
        [
         "17",
         "-1.3528021003769686",
         "-1.5099826180353144",
         "0.6133806592421909"
        ],
        [
         "18",
         "0.9437319692284951",
         "-1.4336437596917697",
         "-0.823017087084459"
        ],
        [
         "19",
         "-0.2763017552494075",
         "-1.4336437596917697",
         "1.8556706020111853"
        ],
        [
         "20",
         "-0.2763017552494075",
         "-1.3954743305199975",
         "-0.5900877228152724"
        ],
        [
         "21",
         "-0.9939686520011148",
         "-1.3954743305199975",
         "0.8851315842229084"
        ],
        [
         "22",
         "0.5131318311774707",
         "-1.357304901348225",
         "-1.7547345441612048"
        ],
        [
         "23",
         "-0.5633685139500905",
         "-1.357304901348225",
         "0.8851315842229084"
        ],
        [
         "24",
         "1.0872653485788366",
         "-1.2427966138329078",
         "-1.405340497757425"
        ],
        [
         "25",
         "-0.706901893300432",
         "-1.2427966138329078",
         "1.234525630626688"
        ],
        [
         "26",
         "0.44136514150229994",
         "-1.2427966138329078",
         "-0.7065524049498657"
        ],
        [
         "27",
         "-0.2763017552494075",
         "-1.2427966138329078",
         "0.4192728556845355"
        ],
        [
         "28",
         "0.08253169312644625",
         "-1.2046271846611356",
         "-0.7453739656613968"
        ],
        [
         "29",
         "-1.1375020313514563",
         "-1.2046271846611356",
         "1.4286334341843434"
        ],
        [
         "30",
         "1.517865486629861",
         "-1.1664577554893631",
         "-1.7935561048727358"
        ],
        [
         "31",
         "-1.2810354107017978",
         "-1.1664577554893631",
         "0.8851315842229084"
        ],
        [
         "32",
         "1.0154986589036659",
         "-1.0519494679740462",
         "-1.7935561048727358"
        ],
        [
         "33",
         "-1.49633547972731",
         "-1.0519494679740462",
         "1.622741237741999"
        ],
        [
         "34",
         "0.728431900202983",
         "-1.0519494679740462",
         "-1.405340497757425"
        ],
        [
         "35",
         "-1.2810354107017978",
         "-1.0519494679740462",
         "1.195704069915157"
        ],
        [
         "36",
         "0.22606507247678773",
         "-1.0137800388022737",
         "-1.288875815622832"
        ],
        [
         "37",
         "-0.6351352036252612",
         "-1.0137800388022737",
         "0.8851315842229084"
        ],
        [
         "38",
         "-0.20453506557423673",
         "-0.8992717512869568",
         "-0.9394817692190521"
        ],
        [
         "39",
         "-1.3528021003769686",
         "-0.8992717512869568",
         "0.9627747056459706"
        ],
        [
         "40",
         "1.8766989350057148",
         "-0.8611023221151844",
         "-0.5900877228152724"
        ],
        [
         "41",
         "-1.0657353416762856",
         "-0.8611023221151844",
         "1.622741237741999"
        ],
        [
         "42",
         "0.6566652105278122",
         "-0.8229328929434121",
         "-0.5512661621037414"
        ],
        [
         "43",
         "-0.5633685139500905",
         "-0.8229328929434121",
         "0.4192728556845355"
        ],
        [
         "44",
         "0.728431900202983",
         "-0.8229328929434121",
         "-0.86183864779599"
        ],
        [
         "45",
         "-1.0657353416762856",
         "-0.8229328929434121",
         "0.5745590985306598"
        ],
        [
         "46",
         "0.8001985898781537",
         "-0.7847634637716397",
         "0.18634349141534906"
        ],
        [
         "47",
         "-0.8504352726507735",
         "-0.7847634637716397",
         "-0.12422899427689955"
        ],
        [
         "48",
         "-0.706901893300432",
         "-0.7847634637716397",
         "-0.31833679783455493"
        ],
        [
         "49",
         "-0.5633685139500905",
         "-0.7847634637716397",
         "-0.31833679783455493"
        ]
       ],
       "shape": {
        "columns": 3,
        "rows": 200
       }
      },
      "text/html": [
       "<div>\n",
       "<style scoped>\n",
       "    .dataframe tbody tr th:only-of-type {\n",
       "        vertical-align: middle;\n",
       "    }\n",
       "\n",
       "    .dataframe tbody tr th {\n",
       "        vertical-align: top;\n",
       "    }\n",
       "\n",
       "    .dataframe thead th {\n",
       "        text-align: right;\n",
       "    }\n",
       "</style>\n",
       "<table border=\"1\" class=\"dataframe\">\n",
       "  <thead>\n",
       "    <tr style=\"text-align: right;\">\n",
       "      <th></th>\n",
       "      <th>Age</th>\n",
       "      <th>Annual Income (k$)</th>\n",
       "      <th>Spending Score (1-100)</th>\n",
       "    </tr>\n",
       "  </thead>\n",
       "  <tbody>\n",
       "    <tr>\n",
       "      <th>0</th>\n",
       "      <td>-1.424569</td>\n",
       "      <td>-1.738999</td>\n",
       "      <td>-0.434801</td>\n",
       "    </tr>\n",
       "    <tr>\n",
       "      <th>1</th>\n",
       "      <td>-1.281035</td>\n",
       "      <td>-1.738999</td>\n",
       "      <td>1.195704</td>\n",
       "    </tr>\n",
       "    <tr>\n",
       "      <th>2</th>\n",
       "      <td>-1.352802</td>\n",
       "      <td>-1.700830</td>\n",
       "      <td>-1.715913</td>\n",
       "    </tr>\n",
       "    <tr>\n",
       "      <th>3</th>\n",
       "      <td>-1.137502</td>\n",
       "      <td>-1.700830</td>\n",
       "      <td>1.040418</td>\n",
       "    </tr>\n",
       "    <tr>\n",
       "      <th>4</th>\n",
       "      <td>-0.563369</td>\n",
       "      <td>-1.662660</td>\n",
       "      <td>-0.395980</td>\n",
       "    </tr>\n",
       "    <tr>\n",
       "      <th>...</th>\n",
       "      <td>...</td>\n",
       "      <td>...</td>\n",
       "      <td>...</td>\n",
       "    </tr>\n",
       "    <tr>\n",
       "      <th>195</th>\n",
       "      <td>-0.276302</td>\n",
       "      <td>2.268791</td>\n",
       "      <td>1.118061</td>\n",
       "    </tr>\n",
       "    <tr>\n",
       "      <th>196</th>\n",
       "      <td>0.441365</td>\n",
       "      <td>2.497807</td>\n",
       "      <td>-0.861839</td>\n",
       "    </tr>\n",
       "    <tr>\n",
       "      <th>197</th>\n",
       "      <td>-0.491602</td>\n",
       "      <td>2.497807</td>\n",
       "      <td>0.923953</td>\n",
       "    </tr>\n",
       "    <tr>\n",
       "      <th>198</th>\n",
       "      <td>-0.491602</td>\n",
       "      <td>2.917671</td>\n",
       "      <td>-1.250054</td>\n",
       "    </tr>\n",
       "    <tr>\n",
       "      <th>199</th>\n",
       "      <td>-0.635135</td>\n",
       "      <td>2.917671</td>\n",
       "      <td>1.273347</td>\n",
       "    </tr>\n",
       "  </tbody>\n",
       "</table>\n",
       "<p>200 rows × 3 columns</p>\n",
       "</div>"
      ],
      "text/plain": [
       "          Age  Annual Income (k$)  Spending Score (1-100)\n",
       "0   -1.424569           -1.738999               -0.434801\n",
       "1   -1.281035           -1.738999                1.195704\n",
       "2   -1.352802           -1.700830               -1.715913\n",
       "3   -1.137502           -1.700830                1.040418\n",
       "4   -0.563369           -1.662660               -0.395980\n",
       "..        ...                 ...                     ...\n",
       "195 -0.276302            2.268791                1.118061\n",
       "196  0.441365            2.497807               -0.861839\n",
       "197 -0.491602            2.497807                0.923953\n",
       "198 -0.491602            2.917671               -1.250054\n",
       "199 -0.635135            2.917671                1.273347\n",
       "\n",
       "[200 rows x 3 columns]"
      ]
     },
     "execution_count": 13,
     "metadata": {},
     "output_type": "execute_result"
    }
   ],
   "source": [
    "import pandas as pd\n",
    "\n",
    "# Convert X_scaled to DataFrame with column names\n",
    "X_scaled_df = pd.DataFrame(X_scaled, columns=['Age', 'Annual Income (k$)', 'Spending Score (1-100)'])\n",
    "\n",
    "# Show first 5 rows\n",
    "X_scaled_df"
   ]
  },
  {
   "cell_type": "code",
   "execution_count": 14,
   "id": "abac72f6",
   "metadata": {},
   "outputs": [
    {
     "data": {
      "image/png": "[encoded data removed]",
      "text/plain": [
       "<Figure size 1400x600 with 2 Axes>"
      ]
     },
     "metadata": {},
     "output_type": "display_data"
    }
   ],
   "source": [
    "fig, axes = plt.subplots(1, 2, figsize=(14,6))\n",
    "\n",
    "# Scatter: Age vs Spending Score\n",
    "axes[0].scatter(X_scaled_df['Age'], X_scaled_df['Spending Score (1-100)'], s=50)\n",
    "axes[0].set_xlabel(\"Age (scaled)\")\n",
    "axes[0].set_ylabel(\"Spending Score (scaled)\")\n",
    "axes[0].set_title(\"Age vs Spending Score\")\n",
    "\n",
    "# Scatter: Annual Income vs Spending Score\n",
    "axes[1].scatter(X_scaled_df['Annual Income (k$)'], X_scaled_df['Spending Score (1-100)'], s=50)\n",
    "axes[1].set_xlabel(\"Annual Income (scaled)\")\n",
    "axes[1].set_ylabel(\"Spending Score (scaled)\")\n",
    "axes[1].set_title(\"Annual Income vs Spending Score\")\n",
    "\n",
    "plt.tight_layout()\n",
    "plt.show()\n"
   ]
  },
  {
   "cell_type": "code",
   "execution_count": 15,
   "id": "c73f6dfd",
   "metadata": {},
   "outputs": [
    {
     "data": {
      "image/png": "[encoded data removed]",
      "text/plain": [
       "<Figure size 800x600 with 1 Axes>"
      ]
     },
     "metadata": {},
     "output_type": "display_data"
    }
   ],
   "source": [
    "from sklearn.decomposition import PCA\n",
    "import matplotlib.pyplot as plt\n",
    "\n",
    "# Apply PCA to reduce dimensions to 2\n",
    "pca = PCA(n_components=2)\n",
    "X_pca = pca.fit_transform(X_scaled_df)\n",
    "\n",
    "plt.figure(figsize=(8,6))\n",
    "plt.scatter(X_pca[:,0], X_pca[:,1], s=50)\n",
    "plt.xlabel(\"PCA 1\")\n",
    "plt.ylabel(\"PCA 2\")\n",
    "plt.title(\"PCA Visualization - Checking Clustering Tendency\")\n",
    "plt.show()\n",
    "\n"
   ]
  },
  {
   "cell_type": "code",
   "execution_count": 16,
   "id": "661b7af1",
   "metadata": {},
   "outputs": [
    {
     "name": "stderr",
     "output_type": "stream",
     "text": [
      "c:\\Users\\mahmo\\anaconda3\\Lib\\site-packages\\sklearn\\cluster\\_kmeans.py:1419: UserWarning: KMeans is known to have a memory leak on Windows with MKL, when there are less chunks than available threads. You can avoid it by setting the environment variable OMP_NUM_THREADS=1.\n",
      "  warnings.warn(\n",
      "c:\\Users\\mahmo\\anaconda3\\Lib\\site-packages\\sklearn\\cluster\\_kmeans.py:1419: UserWarning: KMeans is known to have a memory leak on Windows with MKL, when there are less chunks than available threads. You can avoid it by setting the environment variable OMP_NUM_THREADS=1.\n",
      "  warnings.warn(\n",
      "c:\\Users\\mahmo\\anaconda3\\Lib\\site-packages\\sklearn\\cluster\\_kmeans.py:1419: UserWarning: KMeans is known to have a memory leak on Windows with MKL, when there are less chunks than available threads. You can avoid it by setting the environment variable OMP_NUM_THREADS=1.\n",
      "  warnings.warn(\n",
      "c:\\Users\\mahmo\\anaconda3\\Lib\\site-packages\\sklearn\\cluster\\_kmeans.py:1419: UserWarning: KMeans is known to have a memory leak on Windows with MKL, when there are less chunks than available threads. You can avoid it by setting the environment variable OMP_NUM_THREADS=1.\n",
      "  warnings.warn(\n",
      "c:\\Users\\mahmo\\anaconda3\\Lib\\site-packages\\sklearn\\cluster\\_kmeans.py:1419: UserWarning: KMeans is known to have a memory leak on Windows with MKL, when there are less chunks than available threads. You can avoid it by setting the environment variable OMP_NUM_THREADS=1.\n",
      "  warnings.warn(\n",
      "c:\\Users\\mahmo\\anaconda3\\Lib\\site-packages\\sklearn\\cluster\\_kmeans.py:1419: UserWarning: KMeans is known to have a memory leak on Windows with MKL, when there are less chunks than available threads. You can avoid it by setting the environment variable OMP_NUM_THREADS=1.\n",
      "  warnings.warn(\n",
      "c:\\Users\\mahmo\\anaconda3\\Lib\\site-packages\\sklearn\\cluster\\_kmeans.py:1419: UserWarning: KMeans is known to have a memory leak on Windows with MKL, when there are less chunks than available threads. You can avoid it by setting the environment variable OMP_NUM_THREADS=1.\n",
      "  warnings.warn(\n",
      "c:\\Users\\mahmo\\anaconda3\\Lib\\site-packages\\sklearn\\cluster\\_kmeans.py:1419: UserWarning: KMeans is known to have a memory leak on Windows with MKL, when there are less chunks than available threads. You can avoid it by setting the environment variable OMP_NUM_THREADS=1.\n",
      "  warnings.warn(\n",
      "c:\\Users\\mahmo\\anaconda3\\Lib\\site-packages\\sklearn\\cluster\\_kmeans.py:1419: UserWarning: KMeans is known to have a memory leak on Windows with MKL, when there are less chunks than available threads. You can avoid it by setting the environment variable OMP_NUM_THREADS=1.\n",
      "  warnings.warn(\n",
      "c:\\Users\\mahmo\\anaconda3\\Lib\\site-packages\\sklearn\\cluster\\_kmeans.py:1419: UserWarning: KMeans is known to have a memory leak on Windows with MKL, when there are less chunks than available threads. You can avoid it by setting the environment variable OMP_NUM_THREADS=1.\n",
      "  warnings.warn(\n"
     ]
    }
   ],
   "source": [
    "from sklearn.cluster import KMeans\n",
    "\n",
    "wcss = []\n",
    "for k in range(1, 11):  \n",
    "    kmeans = KMeans(n_clusters=k, init=\"k-means++\", random_state=42)\n",
    "    kmeans.fit(X_scaled_df)   \n",
    "    wcss.append(kmeans.inertia_)   \n",
    "\n",
    "\n"
   ]
  },
  {
   "cell_type": "code",
   "execution_count": 17,
   "id": "62768622",
   "metadata": {},
   "outputs": [
    {
     "data": {
      "image/png": "[encoded data removed]",
      "text/plain": [
       "<Figure size 800x500 with 1 Axes>"
      ]
     },
     "metadata": {},
     "output_type": "display_data"
    }
   ],
   "source": [
    "import matplotlib.pyplot as plt\n",
    "plt.figure(figsize=(8,5))\n",
    "plt.plot(range(1, 11), wcss, marker='o')\n",
    "plt.title(\"Elbow Method\")\n",
    "plt.xlabel(\"Number of Clusters (k)\")\n",
    "plt.ylabel(\"WCSS\")\n",
    "plt.show()"
   ]
  },
  {
   "cell_type": "code",
   "execution_count": 18,
   "id": "1c94be85",
   "metadata": {},
   "outputs": [
    {
     "name": "stdout",
     "output_type": "stream",
     "text": [
      "Silhouette (k=6): 0.4284167762892593\n"
     ]
    },
    {
     "name": "stderr",
     "output_type": "stream",
     "text": [
      "c:\\Users\\mahmo\\anaconda3\\Lib\\site-packages\\sklearn\\cluster\\_kmeans.py:1419: UserWarning: KMeans is known to have a memory leak on Windows with MKL, when there are less chunks than available threads. You can avoid it by setting the environment variable OMP_NUM_THREADS=1.\n",
      "  warnings.warn(\n"
     ]
    }
   ],
   "source": [
    "from sklearn.cluster import KMeans\n",
    "from sklearn.metrics import silhouette_score\n",
    "\n",
    "# 1) fit KMeans with k = 6\n",
    "k = 6\n",
    "kmeans = KMeans(n_clusters=k, random_state=42, n_init=10)\n",
    "labels = kmeans.fit_predict(X_scaled_df)   # X_scaled_df is the scaled DataFrame\n",
    "\n",
    "# 2) compute silhouette score\n",
    "sil_score = silhouette_score(X_scaled_df, labels)\n",
    "print(\"Silhouette (k=6):\", sil_score)\n"
   ]
  },
  {
   "cell_type": "code",
   "execution_count": 19,
   "id": "dfca9648",
   "metadata": {},
   "outputs": [
    {
     "data": {
      "application/vnd.microsoft.datawrangler.viewer.v0+json": {
       "columns": [
        {
         "name": "index",
         "rawType": "int64",
         "type": "integer"
        },
        {
         "name": "CustomerID",
         "rawType": "int64",
         "type": "integer"
        },
        {
         "name": "Genre",
         "rawType": "object",
         "type": "string"
        },
        {
         "name": "Age",
         "rawType": "int64",
         "type": "integer"
        },
        {
         "name": "Annual Income (k$)",
         "rawType": "int64",
         "type": "integer"
        },
        {
         "name": "Spending Score (1-100)",
         "rawType": "int64",
         "type": "integer"
        },
        {
         "name": "Cluster",
         "rawType": "int32",
         "type": "integer"
        }
       ],
       "ref": "82d614fe-2d7a-4392-8e64-ed146d619dce",
       "rows": [
        [
         "0",
         "1",
         "Male",
         "19",
         "15",
         "39",
         "4"
        ],
        [
         "1",
         "2",
         "Male",
         "21",
         "15",
         "81",
         "4"
        ],
        [
         "2",
         "3",
         "Female",
         "20",
         "16",
         "6",
         "5"
        ],
        [
         "3",
         "4",
         "Female",
         "23",
         "16",
         "77",
         "4"
        ],
        [
         "4",
         "5",
         "Female",
         "31",
         "17",
         "40",
         "5"
        ],
        [
         "5",
         "6",
         "Female",
         "22",
         "17",
         "76",
         "4"
        ],
        [
         "6",
         "7",
         "Female",
         "35",
         "18",
         "6",
         "5"
        ],
        [
         "7",
         "8",
         "Female",
         "23",
         "18",
         "94",
         "4"
        ],
        [
         "8",
         "9",
         "Male",
         "64",
         "19",
         "3",
         "5"
        ],
        [
         "9",
         "10",
         "Female",
         "30",
         "19",
         "72",
         "4"
        ],
        [
         "10",
         "11",
         "Male",
         "67",
         "19",
         "14",
         "5"
        ],
        [
         "11",
         "12",
         "Female",
         "35",
         "19",
         "99",
         "4"
        ],
        [
         "12",
         "13",
         "Female",
         "58",
         "20",
         "15",
         "5"
        ],
        [
         "13",
         "14",
         "Female",
         "24",
         "20",
         "77",
         "4"
        ],
        [
         "14",
         "15",
         "Male",
         "37",
         "20",
         "13",
         "5"
        ],
        [
         "15",
         "16",
         "Male",
         "22",
         "20",
         "79",
         "4"
        ],
        [
         "16",
         "17",
         "Female",
         "35",
         "21",
         "35",
         "5"
        ],
        [
         "17",
         "18",
         "Male",
         "20",
         "21",
         "66",
         "4"
        ],
        [
         "18",
         "19",
         "Male",
         "52",
         "23",
         "29",
         "5"
        ],
        [
         "19",
         "20",
         "Female",
         "35",
         "23",
         "98",
         "4"
        ],
        [
         "20",
         "21",
         "Male",
         "35",
         "24",
         "35",
         "5"
        ],
        [
         "21",
         "22",
         "Male",
         "25",
         "24",
         "73",
         "4"
        ],
        [
         "22",
         "23",
         "Female",
         "46",
         "25",
         "5",
         "5"
        ],
        [
         "23",
         "24",
         "Male",
         "31",
         "25",
         "73",
         "4"
        ],
        [
         "24",
         "25",
         "Female",
         "54",
         "28",
         "14",
         "5"
        ],
        [
         "25",
         "26",
         "Male",
         "29",
         "28",
         "82",
         "4"
        ],
        [
         "26",
         "27",
         "Female",
         "45",
         "28",
         "32",
         "5"
        ],
        [
         "27",
         "28",
         "Male",
         "35",
         "28",
         "61",
         "4"
        ],
        [
         "28",
         "29",
         "Female",
         "40",
         "29",
         "31",
         "5"
        ],
        [
         "29",
         "30",
         "Female",
         "23",
         "29",
         "87",
         "4"
        ],
        [
         "30",
         "31",
         "Male",
         "60",
         "30",
         "4",
         "5"
        ],
        [
         "31",
         "32",
         "Female",
         "21",
         "30",
         "73",
         "4"
        ],
        [
         "32",
         "33",
         "Male",
         "53",
         "33",
         "4",
         "5"
        ],
        [
         "33",
         "34",
         "Male",
         "18",
         "33",
         "92",
         "4"
        ],
        [
         "34",
         "35",
         "Female",
         "49",
         "33",
         "14",
         "5"
        ],
        [
         "35",
         "36",
         "Female",
         "21",
         "33",
         "81",
         "4"
        ],
        [
         "36",
         "37",
         "Female",
         "42",
         "34",
         "17",
         "5"
        ],
        [
         "37",
         "38",
         "Female",
         "30",
         "34",
         "73",
         "4"
        ],
        [
         "38",
         "39",
         "Female",
         "36",
         "37",
         "26",
         "5"
        ],
        [
         "39",
         "40",
         "Female",
         "20",
         "37",
         "75",
         "4"
        ],
        [
         "40",
         "41",
         "Female",
         "65",
         "38",
         "35",
         "0"
        ],
        [
         "41",
         "42",
         "Male",
         "24",
         "38",
         "92",
         "4"
        ],
        [
         "42",
         "43",
         "Male",
         "48",
         "39",
         "36",
         "5"
        ],
        [
         "43",
         "44",
         "Female",
         "31",
         "39",
         "61",
         "1"
        ],
        [
         "44",
         "45",
         "Female",
         "49",
         "39",
         "28",
         "5"
        ],
        [
         "45",
         "46",
         "Female",
         "24",
         "39",
         "65",
         "4"
        ],
        [
         "46",
         "47",
         "Female",
         "50",
         "40",
         "55",
         "0"
        ],
        [
         "47",
         "48",
         "Female",
         "27",
         "40",
         "47",
         "1"
        ],
        [
         "48",
         "49",
         "Female",
         "29",
         "40",
         "42",
         "1"
        ],
        [
         "49",
         "50",
         "Female",
         "31",
         "40",
         "42",
         "1"
        ]
       ],
       "shape": {
        "columns": 6,
        "rows": 200
       }
      },
      "text/html": [
       "<div>\n",
       "<style scoped>\n",
       "    .dataframe tbody tr th:only-of-type {\n",
       "        vertical-align: middle;\n",
       "    }\n",
       "\n",
       "    .dataframe tbody tr th {\n",
       "        vertical-align: top;\n",
       "    }\n",
       "\n",
       "    .dataframe thead th {\n",
       "        text-align: right;\n",
       "    }\n",
       "</style>\n",
       "<table border=\"1\" class=\"dataframe\">\n",
       "  <thead>\n",
       "    <tr style=\"text-align: right;\">\n",
       "      <th></th>\n",
       "      <th>CustomerID</th>\n",
       "      <th>Genre</th>\n",
       "      <th>Age</th>\n",
       "      <th>Annual Income (k$)</th>\n",
       "      <th>Spending Score (1-100)</th>\n",
       "      <th>Cluster</th>\n",
       "    </tr>\n",
       "  </thead>\n",
       "  <tbody>\n",
       "    <tr>\n",
       "      <th>0</th>\n",
       "      <td>1</td>\n",
       "      <td>Male</td>\n",
       "      <td>19</td>\n",
       "      <td>15</td>\n",
       "      <td>39</td>\n",
       "      <td>4</td>\n",
       "    </tr>\n",
       "    <tr>\n",
       "      <th>1</th>\n",
       "      <td>2</td>\n",
       "      <td>Male</td>\n",
       "      <td>21</td>\n",
       "      <td>15</td>\n",
       "      <td>81</td>\n",
       "      <td>4</td>\n",
       "    </tr>\n",
       "    <tr>\n",
       "      <th>2</th>\n",
       "      <td>3</td>\n",
       "      <td>Female</td>\n",
       "      <td>20</td>\n",
       "      <td>16</td>\n",
       "      <td>6</td>\n",
       "      <td>5</td>\n",
       "    </tr>\n",
       "    <tr>\n",
       "      <th>3</th>\n",
       "      <td>4</td>\n",
       "      <td>Female</td>\n",
       "      <td>23</td>\n",
       "      <td>16</td>\n",
       "      <td>77</td>\n",
       "      <td>4</td>\n",
       "    </tr>\n",
       "    <tr>\n",
       "      <th>4</th>\n",
       "      <td>5</td>\n",
       "      <td>Female</td>\n",
       "      <td>31</td>\n",
       "      <td>17</td>\n",
       "      <td>40</td>\n",
       "      <td>5</td>\n",
       "    </tr>\n",
       "    <tr>\n",
       "      <th>...</th>\n",
       "      <td>...</td>\n",
       "      <td>...</td>\n",
       "      <td>...</td>\n",
       "      <td>...</td>\n",
       "      <td>...</td>\n",
       "      <td>...</td>\n",
       "    </tr>\n",
       "    <tr>\n",
       "      <th>195</th>\n",
       "      <td>196</td>\n",
       "      <td>Female</td>\n",
       "      <td>35</td>\n",
       "      <td>120</td>\n",
       "      <td>79</td>\n",
       "      <td>3</td>\n",
       "    </tr>\n",
       "    <tr>\n",
       "      <th>196</th>\n",
       "      <td>197</td>\n",
       "      <td>Female</td>\n",
       "      <td>45</td>\n",
       "      <td>126</td>\n",
       "      <td>28</td>\n",
       "      <td>2</td>\n",
       "    </tr>\n",
       "    <tr>\n",
       "      <th>197</th>\n",
       "      <td>198</td>\n",
       "      <td>Male</td>\n",
       "      <td>32</td>\n",
       "      <td>126</td>\n",
       "      <td>74</td>\n",
       "      <td>3</td>\n",
       "    </tr>\n",
       "    <tr>\n",
       "      <th>198</th>\n",
       "      <td>199</td>\n",
       "      <td>Male</td>\n",
       "      <td>32</td>\n",
       "      <td>137</td>\n",
       "      <td>18</td>\n",
       "      <td>2</td>\n",
       "    </tr>\n",
       "    <tr>\n",
       "      <th>199</th>\n",
       "      <td>200</td>\n",
       "      <td>Male</td>\n",
       "      <td>30</td>\n",
       "      <td>137</td>\n",
       "      <td>83</td>\n",
       "      <td>3</td>\n",
       "    </tr>\n",
       "  </tbody>\n",
       "</table>\n",
       "<p>200 rows × 6 columns</p>\n",
       "</div>"
      ],
      "text/plain": [
       "     CustomerID   Genre  Age  Annual Income (k$)  Spending Score (1-100)  \\\n",
       "0             1    Male   19                  15                      39   \n",
       "1             2    Male   21                  15                      81   \n",
       "2             3  Female   20                  16                       6   \n",
       "3             4  Female   23                  16                      77   \n",
       "4             5  Female   31                  17                      40   \n",
       "..          ...     ...  ...                 ...                     ...   \n",
       "195         196  Female   35                 120                      79   \n",
       "196         197  Female   45                 126                      28   \n",
       "197         198    Male   32                 126                      74   \n",
       "198         199    Male   32                 137                      18   \n",
       "199         200    Male   30                 137                      83   \n",
       "\n",
       "     Cluster  \n",
       "0          4  \n",
       "1          4  \n",
       "2          5  \n",
       "3          4  \n",
       "4          5  \n",
       "..       ...  \n",
       "195        3  \n",
       "196        2  \n",
       "197        3  \n",
       "198        2  \n",
       "199        3  \n",
       "\n",
       "[200 rows x 6 columns]"
      ]
     },
     "execution_count": 19,
     "metadata": {},
     "output_type": "execute_result"
    }
   ],
   "source": [
    "df['Cluster'] = labels\n",
    "\n",
    "df"
   ]
  },
  {
   "cell_type": "code",
   "execution_count": 20,
   "id": "c0741539",
   "metadata": {},
   "outputs": [
    {
     "name": "stdout",
     "output_type": "stream",
     "text": [
      "               Age  Annual Income (k$)  Spending Score (1-100)\n",
      "Cluster                                                       \n",
      "0        56.333333           54.266667               49.066667\n",
      "1        26.794872           57.102564               48.128205\n",
      "2        41.939394           88.939394               16.969697\n",
      "3        32.692308           86.538462               82.128205\n",
      "4        25.000000           25.260870               77.608696\n",
      "5        45.523810           26.285714               19.380952\n"
     ]
    }
   ],
   "source": [
    "cluster_summary = df.groupby('Cluster')[['Age', 'Annual Income (k$)', 'Spending Score (1-100)']].mean()\n",
    "\n",
    "print(cluster_summary)\n"
   ]
  },
  {
   "cell_type": "code",
   "execution_count": null,
   "id": "8d944a50",
   "metadata": {},
   "outputs": [
    {
     "ename": "KeyError",
     "evalue": "'Cluster'",
     "output_type": "error",
     "traceback": [
      "\u001b[31m---------------------------------------------------------------------------\u001b[39m",
      "\u001b[31mKeyError\u001b[39m                                  Traceback (most recent call last)",
      "\u001b[36mFile \u001b[39m\u001b[32mc:\\Users\\mahmo\\anaconda3\\Lib\\site-packages\\pandas\\core\\indexes\\base.py:3805\u001b[39m, in \u001b[36mIndex.get_loc\u001b[39m\u001b[34m(self, key)\u001b[39m\n\u001b[32m   3804\u001b[39m \u001b[38;5;28;01mtry\u001b[39;00m:\n\u001b[32m-> \u001b[39m\u001b[32m3805\u001b[39m     \u001b[38;5;28;01mreturn\u001b[39;00m \u001b[38;5;28;43mself\u001b[39;49m\u001b[43m.\u001b[49m\u001b[43m_engine\u001b[49m\u001b[43m.\u001b[49m\u001b[43mget_loc\u001b[49m\u001b[43m(\u001b[49m\u001b[43mcasted_key\u001b[49m\u001b[43m)\u001b[49m\n\u001b[32m   3806\u001b[39m \u001b[38;5;28;01mexcept\u001b[39;00m \u001b[38;5;167;01mKeyError\u001b[39;00m \u001b[38;5;28;01mas\u001b[39;00m err:\n",
      "\u001b[36mFile \u001b[39m\u001b[32mindex.pyx:167\u001b[39m, in \u001b[36mpandas._libs.index.IndexEngine.get_loc\u001b[39m\u001b[34m()\u001b[39m\n",
      "\u001b[36mFile \u001b[39m\u001b[32mindex.pyx:196\u001b[39m, in \u001b[36mpandas._libs.index.IndexEngine.get_loc\u001b[39m\u001b[34m()\u001b[39m\n",
      "\u001b[36mFile \u001b[39m\u001b[32mpandas\\\\_libs\\\\hashtable_class_helper.pxi:7081\u001b[39m, in \u001b[36mpandas._libs.hashtable.PyObjectHashTable.get_item\u001b[39m\u001b[34m()\u001b[39m\n",
      "\u001b[36mFile \u001b[39m\u001b[32mpandas\\\\_libs\\\\hashtable_class_helper.pxi:7089\u001b[39m, in \u001b[36mpandas._libs.hashtable.PyObjectHashTable.get_item\u001b[39m\u001b[34m()\u001b[39m\n",
      "\u001b[31mKeyError\u001b[39m: 'Cluster'",
      "\nThe above exception was the direct cause of the following exception:\n",
      "\u001b[31mKeyError\u001b[39m                                  Traceback (most recent call last)",
      "\u001b[36mCell\u001b[39m\u001b[36m \u001b[39m\u001b[32mIn[14]\u001b[39m\u001b[32m, line 7\u001b[39m\n\u001b[32m      1\u001b[39m \u001b[38;5;28;01mimport\u001b[39;00m\u001b[38;5;250m \u001b[39m\u001b[34;01mmatplotlib\u001b[39;00m\u001b[34;01m.\u001b[39;00m\u001b[34;01mpyplot\u001b[39;00m\u001b[38;5;250m \u001b[39m\u001b[38;5;28;01mas\u001b[39;00m\u001b[38;5;250m \u001b[39m\u001b[34;01mplt\u001b[39;00m\n\u001b[32m      3\u001b[39m plt.figure(figsize=(\u001b[32m8\u001b[39m,\u001b[32m6\u001b[39m))\n\u001b[32m      5\u001b[39m plt.scatter(df[\u001b[33m'\u001b[39m\u001b[33mAnnual Income (k$)\u001b[39m\u001b[33m'\u001b[39m], \n\u001b[32m      6\u001b[39m             df[\u001b[33m'\u001b[39m\u001b[33mSpending Score (1-100)\u001b[39m\u001b[33m'\u001b[39m], \n\u001b[32m----> \u001b[39m\u001b[32m7\u001b[39m             c=\u001b[43mdf\u001b[49m\u001b[43m[\u001b[49m\u001b[33;43m'\u001b[39;49m\u001b[33;43mCluster\u001b[39;49m\u001b[33;43m'\u001b[39;49m\u001b[43m]\u001b[49m, cmap=\u001b[33m'\u001b[39m\u001b[33mrainbow\u001b[39m\u001b[33m'\u001b[39m)\n\u001b[32m      9\u001b[39m plt.title(\u001b[33m\"\u001b[39m\u001b[33mCustomer Segments (KMeans Clusters)\u001b[39m\u001b[33m\"\u001b[39m)\n\u001b[32m     10\u001b[39m plt.xlabel(\u001b[33m\"\u001b[39m\u001b[33mAnnual Income (k$)\u001b[39m\u001b[33m\"\u001b[39m)\n",
      "\u001b[36mFile \u001b[39m\u001b[32mc:\\Users\\mahmo\\anaconda3\\Lib\\site-packages\\pandas\\core\\frame.py:4102\u001b[39m, in \u001b[36mDataFrame.__getitem__\u001b[39m\u001b[34m(self, key)\u001b[39m\n\u001b[32m   4100\u001b[39m \u001b[38;5;28;01mif\u001b[39;00m \u001b[38;5;28mself\u001b[39m.columns.nlevels > \u001b[32m1\u001b[39m:\n\u001b[32m   4101\u001b[39m     \u001b[38;5;28;01mreturn\u001b[39;00m \u001b[38;5;28mself\u001b[39m._getitem_multilevel(key)\n\u001b[32m-> \u001b[39m\u001b[32m4102\u001b[39m indexer = \u001b[38;5;28;43mself\u001b[39;49m\u001b[43m.\u001b[49m\u001b[43mcolumns\u001b[49m\u001b[43m.\u001b[49m\u001b[43mget_loc\u001b[49m\u001b[43m(\u001b[49m\u001b[43mkey\u001b[49m\u001b[43m)\u001b[49m\n\u001b[32m   4103\u001b[39m \u001b[38;5;28;01mif\u001b[39;00m is_integer(indexer):\n\u001b[32m   4104\u001b[39m     indexer = [indexer]\n",
      "\u001b[36mFile \u001b[39m\u001b[32mc:\\Users\\mahmo\\anaconda3\\Lib\\site-packages\\pandas\\core\\indexes\\base.py:3812\u001b[39m, in \u001b[36mIndex.get_loc\u001b[39m\u001b[34m(self, key)\u001b[39m\n\u001b[32m   3807\u001b[39m     \u001b[38;5;28;01mif\u001b[39;00m \u001b[38;5;28misinstance\u001b[39m(casted_key, \u001b[38;5;28mslice\u001b[39m) \u001b[38;5;129;01mor\u001b[39;00m (\n\u001b[32m   3808\u001b[39m         \u001b[38;5;28misinstance\u001b[39m(casted_key, abc.Iterable)\n\u001b[32m   3809\u001b[39m         \u001b[38;5;129;01mand\u001b[39;00m \u001b[38;5;28many\u001b[39m(\u001b[38;5;28misinstance\u001b[39m(x, \u001b[38;5;28mslice\u001b[39m) \u001b[38;5;28;01mfor\u001b[39;00m x \u001b[38;5;129;01min\u001b[39;00m casted_key)\n\u001b[32m   3810\u001b[39m     ):\n\u001b[32m   3811\u001b[39m         \u001b[38;5;28;01mraise\u001b[39;00m InvalidIndexError(key)\n\u001b[32m-> \u001b[39m\u001b[32m3812\u001b[39m     \u001b[38;5;28;01mraise\u001b[39;00m \u001b[38;5;167;01mKeyError\u001b[39;00m(key) \u001b[38;5;28;01mfrom\u001b[39;00m\u001b[38;5;250m \u001b[39m\u001b[34;01merr\u001b[39;00m\n\u001b[32m   3813\u001b[39m \u001b[38;5;28;01mexcept\u001b[39;00m \u001b[38;5;167;01mTypeError\u001b[39;00m:\n\u001b[32m   3814\u001b[39m     \u001b[38;5;66;03m# If we have a listlike key, _check_indexing_error will raise\u001b[39;00m\n\u001b[32m   3815\u001b[39m     \u001b[38;5;66;03m#  InvalidIndexError. Otherwise we fall through and re-raise\u001b[39;00m\n\u001b[32m   3816\u001b[39m     \u001b[38;5;66;03m#  the TypeError.\u001b[39;00m\n\u001b[32m   3817\u001b[39m     \u001b[38;5;28mself\u001b[39m._check_indexing_error(key)\n",
      "\u001b[31mKeyError\u001b[39m: 'Cluster'"
     ]
    },
    {
     "data": {
      "text/plain": [
       "<Figure size 800x600 with 0 Axes>"
      ]
     },
     "metadata": {},
     "output_type": "display_data"
    }
   ],
   "source": [
    "import matplotlib.pyplot as plt\n",
    "\n",
    "plt.figure(figsize=(8,6))\n",
    "\n",
    "plt.scatter(df['Annual Income (k$)'], \n",
    "            df['Spending Score (1-100)'], \n",
    "            c=df['Cluster'], cmap='rainbow')\n",
    "\n",
    "plt.title(\"Customer Segments (KMeans Clusters)\")\n",
    "plt.xlabel(\"Annual Income (k$)\")\n",
    "plt.ylabel(\"Spending Score (1-100)\")\n",
    "plt.show()\n"
   ]
  },
  {
   "cell_type": "code",
   "execution_count": 23,
   "id": "601f72de",
   "metadata": {},
   "outputs": [
    {
     "name": "stdout",
     "output_type": "stream",
     "text": [
      "   CustomerID  Cluster Customer Segment\n",
      "0           1        4   Bargain Lovers\n",
      "1           2        4   Bargain Lovers\n",
      "2           3        5        Low Value\n",
      "3           4        4   Bargain Lovers\n",
      "4           5        5        Low Value\n",
      "5           6        4   Bargain Lovers\n",
      "6           7        5        Low Value\n",
      "7           8        4   Bargain Lovers\n",
      "8           9        5        Low Value\n",
      "9          10        4   Bargain Lovers\n"
     ]
    }
   ],
   "source": [
    "# Define mapping dictionary\n",
    "cluster_names = {\n",
    "    0: \"Mature Standard\",\n",
    "    1: \"Young Standard\",\n",
    "    2: \"Careful Rich\",\n",
    "    3: \"VIPs\",\n",
    "    4: \"Bargain Lovers\",\n",
    "    5: \"Low Value\"\n",
    "}\n",
    "\n",
    "# Apply mapping to create new column\n",
    "df[\"Customer Segment\"] = df[\"Cluster\"].map(cluster_names)\n",
    "\n",
    "# Show sample\n",
    "print(df[[\"CustomerID\", \"Cluster\", \"Customer Segment\"]].head(10))\n"
   ]
  },
  {
   "cell_type": "code",
   "execution_count": null,
   "id": "c2d72889",
   "metadata": {},
   "outputs": [
    {
     "data": {
      "image/png": "[encoded data removed]",
      "text/plain": [
       "<Figure size 800x600 with 1 Axes>"
      ]
     },
     "metadata": {},
     "output_type": "display_data"
    }
   ],
   "source": [
    "import matplotlib.pyplot as plt\n",
    "\n",
    "cluster_labels = {\n",
    "    0: \"Mature Average\",\n",
    "    1: \"Young Average\",\n",
    "    2: \"High Income Low Spending\",\n",
    "    3: \"High Income High Spending (VIPs)\",\n",
    "    4: \"Low Income High Spending (Carefree)\",\n",
    "    5: \"Low Income Low Spending\"\n",
    "}\n",
    "\n",
    "df[\"Cluster_Label\"] = df[\"Cluster\"].map(cluster_labels)\n",
    "\n",
    "plt.figure(figsize=(8,6))\n",
    "for label, color in zip(cluster_labels.values(), [\"red\",\"blue\",\"green\",\"purple\",\"orange\",\"brown\"]):\n",
    "    subset = df[df[\"Cluster_Label\"] == label]\n",
    "    plt.scatter(subset[\"Annual Income (k$)\"], subset[\"Spending Score (1-100)\"], \n",
    "                label=label, c=color, s=60, alpha=0.7)\n",
    "\n",
    "plt.xlabel(\"Annual Income (k$)\")\n",
    "plt.ylabel(\"Spending Score (1-100)\")\n",
    "plt.title(\"Customer Segmentation (k=6)\")\n",
    "plt.legend()\n",
    "plt.show()\n"
   ]
  },
  {
   "cell_type": "code",
   "execution_count": 25,
   "id": "1f0c92c9",
   "metadata": {},
   "outputs": [
    {
     "name": "stderr",
     "output_type": "stream",
     "text": [
      "C:\\Users\\mahmo\\AppData\\Local\\Temp\\ipykernel_18132\\880916922.py:2: FutureWarning: \n",
      "\n",
      "Passing `palette` without assigning `hue` is deprecated and will be removed in v0.14.0. Assign the `x` variable to `hue` and set `legend=False` for the same effect.\n",
      "\n",
      "  sns.countplot(x='Customer Segment', data=df, palette='Set2')\n"
     ]
    },
    {
     "data": {
      "image/png": "[encoded data removed]",
      "text/plain": [
       "<Figure size 800x500 with 1 Axes>"
      ]
     },
     "metadata": {},
     "output_type": "display_data"
    }
   ],
   "source": [
    "\n",
    "\n",
    "\n",
    "plt.figure(figsize=(8,5))\n",
    "sns.countplot(x='Customer Segment', data=df, palette='Set2')\n",
    "plt.title(\"Number of Customers in Each Segment\")\n",
    "plt.xlabel(\"Customer Segment\")\n",
    "plt.ylabel(\"Count\")\n",
    "plt.show()\n",
    "\n"
   ]
  },
  {
   "cell_type": "code",
   "execution_count": null,
   "id": "27b3edeb",
   "metadata": {},
   "outputs": [
    {
     "name": "stdout",
     "output_type": "stream",
     "text": [
      "Index(['CustomerID', 'Genre', 'Age', 'Annual Income (k$)',\n",
      "       'Spending Score (1-100)', 'Customer Segment'],\n",
      "      dtype='object')\n"
     ]
    }
   ],
   "source": [
    "df = df.drop(columns=[\"Cluster\", \"Cluster_Label\"], errors=\"ignore\")\n",
    "\n"
   ]
  },
  {
   "cell_type": "code",
   "execution_count": 30,
   "id": "c49a864f",
   "metadata": {},
   "outputs": [
    {
     "data": {
      "application/vnd.microsoft.datawrangler.viewer.v0+json": {
       "columns": [
        {
         "name": "index",
         "rawType": "int64",
         "type": "integer"
        },
        {
         "name": "CustomerID",
         "rawType": "int64",
         "type": "integer"
        },
        {
         "name": "Genre",
         "rawType": "object",
         "type": "string"
        },
        {
         "name": "Age",
         "rawType": "int64",
         "type": "integer"
        },
        {
         "name": "Annual Income (k$)",
         "rawType": "int64",
         "type": "integer"
        },
        {
         "name": "Spending Score (1-100)",
         "rawType": "int64",
         "type": "integer"
        },
        {
         "name": "Customer Segment",
         "rawType": "object",
         "type": "string"
        }
       ],
       "ref": "53c58587-cb9f-4eeb-8da2-3528871a513a",
       "rows": [
        [
         "0",
         "1",
         "Male",
         "19",
         "15",
         "39",
         "Bargain Lovers"
        ],
        [
         "1",
         "2",
         "Male",
         "21",
         "15",
         "81",
         "Bargain Lovers"
        ],
        [
         "2",
         "3",
         "Female",
         "20",
         "16",
         "6",
         "Low Value"
        ],
        [
         "3",
         "4",
         "Female",
         "23",
         "16",
         "77",
         "Bargain Lovers"
        ],
        [
         "4",
         "5",
         "Female",
         "31",
         "17",
         "40",
         "Low Value"
        ],
        [
         "5",
         "6",
         "Female",
         "22",
         "17",
         "76",
         "Bargain Lovers"
        ],
        [
         "6",
         "7",
         "Female",
         "35",
         "18",
         "6",
         "Low Value"
        ],
        [
         "7",
         "8",
         "Female",
         "23",
         "18",
         "94",
         "Bargain Lovers"
        ],
        [
         "8",
         "9",
         "Male",
         "64",
         "19",
         "3",
         "Low Value"
        ],
        [
         "9",
         "10",
         "Female",
         "30",
         "19",
         "72",
         "Bargain Lovers"
        ],
        [
         "10",
         "11",
         "Male",
         "67",
         "19",
         "14",
         "Low Value"
        ],
        [
         "11",
         "12",
         "Female",
         "35",
         "19",
         "99",
         "Bargain Lovers"
        ],
        [
         "12",
         "13",
         "Female",
         "58",
         "20",
         "15",
         "Low Value"
        ],
        [
         "13",
         "14",
         "Female",
         "24",
         "20",
         "77",
         "Bargain Lovers"
        ],
        [
         "14",
         "15",
         "Male",
         "37",
         "20",
         "13",
         "Low Value"
        ],
        [
         "15",
         "16",
         "Male",
         "22",
         "20",
         "79",
         "Bargain Lovers"
        ],
        [
         "16",
         "17",
         "Female",
         "35",
         "21",
         "35",
         "Low Value"
        ],
        [
         "17",
         "18",
         "Male",
         "20",
         "21",
         "66",
         "Bargain Lovers"
        ],
        [
         "18",
         "19",
         "Male",
         "52",
         "23",
         "29",
         "Low Value"
        ],
        [
         "19",
         "20",
         "Female",
         "35",
         "23",
         "98",
         "Bargain Lovers"
        ],
        [
         "20",
         "21",
         "Male",
         "35",
         "24",
         "35",
         "Low Value"
        ],
        [
         "21",
         "22",
         "Male",
         "25",
         "24",
         "73",
         "Bargain Lovers"
        ],
        [
         "22",
         "23",
         "Female",
         "46",
         "25",
         "5",
         "Low Value"
        ],
        [
         "23",
         "24",
         "Male",
         "31",
         "25",
         "73",
         "Bargain Lovers"
        ],
        [
         "24",
         "25",
         "Female",
         "54",
         "28",
         "14",
         "Low Value"
        ],
        [
         "25",
         "26",
         "Male",
         "29",
         "28",
         "82",
         "Bargain Lovers"
        ],
        [
         "26",
         "27",
         "Female",
         "45",
         "28",
         "32",
         "Low Value"
        ],
        [
         "27",
         "28",
         "Male",
         "35",
         "28",
         "61",
         "Bargain Lovers"
        ],
        [
         "28",
         "29",
         "Female",
         "40",
         "29",
         "31",
         "Low Value"
        ],
        [
         "29",
         "30",
         "Female",
         "23",
         "29",
         "87",
         "Bargain Lovers"
        ],
        [
         "30",
         "31",
         "Male",
         "60",
         "30",
         "4",
         "Low Value"
        ],
        [
         "31",
         "32",
         "Female",
         "21",
         "30",
         "73",
         "Bargain Lovers"
        ],
        [
         "32",
         "33",
         "Male",
         "53",
         "33",
         "4",
         "Low Value"
        ],
        [
         "33",
         "34",
         "Male",
         "18",
         "33",
         "92",
         "Bargain Lovers"
        ],
        [
         "34",
         "35",
         "Female",
         "49",
         "33",
         "14",
         "Low Value"
        ],
        [
         "35",
         "36",
         "Female",
         "21",
         "33",
         "81",
         "Bargain Lovers"
        ],
        [
         "36",
         "37",
         "Female",
         "42",
         "34",
         "17",
         "Low Value"
        ],
        [
         "37",
         "38",
         "Female",
         "30",
         "34",
         "73",
         "Bargain Lovers"
        ],
        [
         "38",
         "39",
         "Female",
         "36",
         "37",
         "26",
         "Low Value"
        ],
        [
         "39",
         "40",
         "Female",
         "20",
         "37",
         "75",
         "Bargain Lovers"
        ],
        [
         "40",
         "41",
         "Female",
         "65",
         "38",
         "35",
         "Mature Standard"
        ],
        [
         "41",
         "42",
         "Male",
         "24",
         "38",
         "92",
         "Bargain Lovers"
        ],
        [
         "42",
         "43",
         "Male",
         "48",
         "39",
         "36",
         "Low Value"
        ],
        [
         "43",
         "44",
         "Female",
         "31",
         "39",
         "61",
         "Young Standard"
        ],
        [
         "44",
         "45",
         "Female",
         "49",
         "39",
         "28",
         "Low Value"
        ],
        [
         "45",
         "46",
         "Female",
         "24",
         "39",
         "65",
         "Bargain Lovers"
        ],
        [
         "46",
         "47",
         "Female",
         "50",
         "40",
         "55",
         "Mature Standard"
        ],
        [
         "47",
         "48",
         "Female",
         "27",
         "40",
         "47",
         "Young Standard"
        ],
        [
         "48",
         "49",
         "Female",
         "29",
         "40",
         "42",
         "Young Standard"
        ],
        [
         "49",
         "50",
         "Female",
         "31",
         "40",
         "42",
         "Young Standard"
        ]
       ],
       "shape": {
        "columns": 6,
        "rows": 200
       }
      },
      "text/html": [
       "<div>\n",
       "<style scoped>\n",
       "    .dataframe tbody tr th:only-of-type {\n",
       "        vertical-align: middle;\n",
       "    }\n",
       "\n",
       "    .dataframe tbody tr th {\n",
       "        vertical-align: top;\n",
       "    }\n",
       "\n",
       "    .dataframe thead th {\n",
       "        text-align: right;\n",
       "    }\n",
       "</style>\n",
       "<table border=\"1\" class=\"dataframe\">\n",
       "  <thead>\n",
       "    <tr style=\"text-align: right;\">\n",
       "      <th></th>\n",
       "      <th>CustomerID</th>\n",
       "      <th>Genre</th>\n",
       "      <th>Age</th>\n",
       "      <th>Annual Income (k$)</th>\n",
       "      <th>Spending Score (1-100)</th>\n",
       "      <th>Customer Segment</th>\n",
       "    </tr>\n",
       "  </thead>\n",
       "  <tbody>\n",
       "    <tr>\n",
       "      <th>0</th>\n",
       "      <td>1</td>\n",
       "      <td>Male</td>\n",
       "      <td>19</td>\n",
       "      <td>15</td>\n",
       "      <td>39</td>\n",
       "      <td>Bargain Lovers</td>\n",
       "    </tr>\n",
       "    <tr>\n",
       "      <th>1</th>\n",
       "      <td>2</td>\n",
       "      <td>Male</td>\n",
       "      <td>21</td>\n",
       "      <td>15</td>\n",
       "      <td>81</td>\n",
       "      <td>Bargain Lovers</td>\n",
       "    </tr>\n",
       "    <tr>\n",
       "      <th>2</th>\n",
       "      <td>3</td>\n",
       "      <td>Female</td>\n",
       "      <td>20</td>\n",
       "      <td>16</td>\n",
       "      <td>6</td>\n",
       "      <td>Low Value</td>\n",
       "    </tr>\n",
       "    <tr>\n",
       "      <th>3</th>\n",
       "      <td>4</td>\n",
       "      <td>Female</td>\n",
       "      <td>23</td>\n",
       "      <td>16</td>\n",
       "      <td>77</td>\n",
       "      <td>Bargain Lovers</td>\n",
       "    </tr>\n",
       "    <tr>\n",
       "      <th>4</th>\n",
       "      <td>5</td>\n",
       "      <td>Female</td>\n",
       "      <td>31</td>\n",
       "      <td>17</td>\n",
       "      <td>40</td>\n",
       "      <td>Low Value</td>\n",
       "    </tr>\n",
       "    <tr>\n",
       "      <th>...</th>\n",
       "      <td>...</td>\n",
       "      <td>...</td>\n",
       "      <td>...</td>\n",
       "      <td>...</td>\n",
       "      <td>...</td>\n",
       "      <td>...</td>\n",
       "    </tr>\n",
       "    <tr>\n",
       "      <th>195</th>\n",
       "      <td>196</td>\n",
       "      <td>Female</td>\n",
       "      <td>35</td>\n",
       "      <td>120</td>\n",
       "      <td>79</td>\n",
       "      <td>VIPs</td>\n",
       "    </tr>\n",
       "    <tr>\n",
       "      <th>196</th>\n",
       "      <td>197</td>\n",
       "      <td>Female</td>\n",
       "      <td>45</td>\n",
       "      <td>126</td>\n",
       "      <td>28</td>\n",
       "      <td>Careful Rich</td>\n",
       "    </tr>\n",
       "    <tr>\n",
       "      <th>197</th>\n",
       "      <td>198</td>\n",
       "      <td>Male</td>\n",
       "      <td>32</td>\n",
       "      <td>126</td>\n",
       "      <td>74</td>\n",
       "      <td>VIPs</td>\n",
       "    </tr>\n",
       "    <tr>\n",
       "      <th>198</th>\n",
       "      <td>199</td>\n",
       "      <td>Male</td>\n",
       "      <td>32</td>\n",
       "      <td>137</td>\n",
       "      <td>18</td>\n",
       "      <td>Careful Rich</td>\n",
       "    </tr>\n",
       "    <tr>\n",
       "      <th>199</th>\n",
       "      <td>200</td>\n",
       "      <td>Male</td>\n",
       "      <td>30</td>\n",
       "      <td>137</td>\n",
       "      <td>83</td>\n",
       "      <td>VIPs</td>\n",
       "    </tr>\n",
       "  </tbody>\n",
       "</table>\n",
       "<p>200 rows × 6 columns</p>\n",
       "</div>"
      ],
      "text/plain": [
       "     CustomerID   Genre  Age  Annual Income (k$)  Spending Score (1-100)  \\\n",
       "0             1    Male   19                  15                      39   \n",
       "1             2    Male   21                  15                      81   \n",
       "2             3  Female   20                  16                       6   \n",
       "3             4  Female   23                  16                      77   \n",
       "4             5  Female   31                  17                      40   \n",
       "..          ...     ...  ...                 ...                     ...   \n",
       "195         196  Female   35                 120                      79   \n",
       "196         197  Female   45                 126                      28   \n",
       "197         198    Male   32                 126                      74   \n",
       "198         199    Male   32                 137                      18   \n",
       "199         200    Male   30                 137                      83   \n",
       "\n",
       "    Customer Segment  \n",
       "0     Bargain Lovers  \n",
       "1     Bargain Lovers  \n",
       "2          Low Value  \n",
       "3     Bargain Lovers  \n",
       "4          Low Value  \n",
       "..               ...  \n",
       "195             VIPs  \n",
       "196     Careful Rich  \n",
       "197             VIPs  \n",
       "198     Careful Rich  \n",
       "199             VIPs  \n",
       "\n",
       "[200 rows x 6 columns]"
      ]
     },
     "execution_count": 30,
     "metadata": {},
     "output_type": "execute_result"
    }
   ],
   "source": [
    "df"
   ]
  },
  {
   "cell_type": "code",
   "execution_count": null,
   "id": "17041de3",
   "metadata": {},
   "outputs": [
    {
     "data": {
      "application/vnd.plotly.v1+json": {
       "config": {
        "plotlyServerURL": "https://plot.ly"
       },
       "data": [
        {
         "marker": {
          "color": "teal"
         },
         "type": "bar",
         "x": [
          "Mature Standard",
          "Young Standard",
          "VIPs",
          "Careful Rich",
          "Bargain Lovers",
          "Low Value"
         ],
         "xaxis": "x",
         "y": [
          45,
          39,
          39,
          33,
          23,
          21
         ],
         "yaxis": "y"
        },
        {
         "marker": {
          "color": [
           0,
           0,
           2,
           0,
           2,
           0,
           2,
           0,
           2,
           0,
           2,
           0,
           2,
           0,
           2,
           0,
           2,
           0,
           2,
           0,
           2,
           0,
           2,
           0,
           2,
           0,
           2,
           0,
           2,
           0,
           2,
           0,
           2,
           0,
           2,
           0,
           2,
           0,
           2,
           0,
           3,
           0,
           2,
           5,
           2,
           0,
           3,
           5,
           5,
           5,
           3,
           5,
           5,
           3,
           3,
           3,
           3,
           3,
           5,
           3,
           3,
           5,
           3,
           3,
           3,
           5,
           3,
           3,
           5,
           5,
           3,
           3,
           3,
           3,
           3,
           5,
           3,
           5,
           5,
           3,
           3,
           5,
           3,
           3,
           5,
           3,
           3,
           5,
           5,
           3,
           3,
           5,
           3,
           5,
           5,
           5,
           3,
           5,
           3,
           5,
           5,
           3,
           3,
           5,
           3,
           5,
           3,
           3,
           3,
           3,
           3,
           5,
           5,
           5,
           5,
           5,
           3,
           3,
           3,
           3,
           5,
           5,
           5,
           4,
           5,
           4,
           1,
           4,
           1,
           4,
           1,
           4,
           5,
           4,
           1,
           4,
           1,
           4,
           5,
           4,
           1,
           4,
           5,
           4,
           1,
           4,
           1,
           4,
           1,
           4,
           1,
           4,
           1,
           4,
           1,
           4,
           1,
           4,
           1,
           4,
           3,
           4,
           1,
           4,
           1,
           4,
           1,
           4,
           1,
           4,
           1,
           4,
           1,
           4,
           1,
           4,
           1,
           4,
           1,
           4,
           1,
           4,
           1,
           4,
           1,
           4,
           1,
           4,
           1,
           4,
           1,
           4,
           1,
           4,
           1,
           4,
           1,
           4,
           1,
           4
          ],
          "colorscale": [
           [
            0,
            "#440154"
           ],
           [
            0.1111111111111111,
            "#482878"
           ],
           [
            0.2222222222222222,
            "#3e4989"
           ],
           [
            0.3333333333333333,
            "#31688e"
           ],
           [
            0.4444444444444444,
            "#26828e"
           ],
           [
            0.5555555555555556,
            "#1f9e89"
           ],
           [
            0.6666666666666666,
            "#35b779"
           ],
           [
            0.7777777777777778,
            "#6ece58"
           ],
           [
            0.8888888888888888,
            "#b5de2b"
           ],
           [
            1,
            "#fde725"
           ]
          ]
         },
         "mode": "markers",
         "text": [
          "Bargain Lovers",
          "Bargain Lovers",
          "Low Value",
          "Bargain Lovers",
          "Low Value",
          "Bargain Lovers",
          "Low Value",
          "Bargain Lovers",
          "Low Value",
          "Bargain Lovers",
          "Low Value",
          "Bargain Lovers",
          "Low Value",
          "Bargain Lovers",
          "Low Value",
          "Bargain Lovers",
          "Low Value",
          "Bargain Lovers",
          "Low Value",
          "Bargain Lovers",
          "Low Value",
          "Bargain Lovers",
          "Low Value",
          "Bargain Lovers",
          "Low Value",
          "Bargain Lovers",
          "Low Value",
          "Bargain Lovers",
          "Low Value",
          "Bargain Lovers",
          "Low Value",
          "Bargain Lovers",
          "Low Value",
          "Bargain Lovers",
          "Low Value",
          "Bargain Lovers",
          "Low Value",
          "Bargain Lovers",
          "Low Value",
          "Bargain Lovers",
          "Mature Standard",
          "Bargain Lovers",
          "Low Value",
          "Young Standard",
          "Low Value",
          "Bargain Lovers",
          "Mature Standard",
          "Young Standard",
          "Young Standard",
          "Young Standard",
          "Mature Standard",
          "Young Standard",
          "Young Standard",
          "Mature Standard",
          "Mature Standard",
          "Mature Standard",
          "Mature Standard",
          "Mature Standard",
          "Young Standard",
          "Mature Standard",
          "Mature Standard",
          "Young Standard",
          "Mature Standard",
          "Mature Standard",
          "Mature Standard",
          "Young Standard",
          "Mature Standard",
          "Mature Standard",
          "Young Standard",
          "Young Standard",
          "Mature Standard",
          "Mature Standard",
          "Mature Standard",
          "Mature Standard",
          "Mature Standard",
          "Young Standard",
          "Mature Standard",
          "Young Standard",
          "Young Standard",
          "Mature Standard",
          "Mature Standard",
          "Young Standard",
          "Mature Standard",
          "Mature Standard",
          "Young Standard",
          "Mature Standard",
          "Mature Standard",
          "Young Standard",
          "Young Standard",
          "Mature Standard",
          "Mature Standard",
          "Young Standard",
          "Mature Standard",
          "Young Standard",
          "Young Standard",
          "Young Standard",
          "Mature Standard",
          "Young Standard",
          "Mature Standard",
          "Young Standard",
          "Young Standard",
          "Mature Standard",
          "Mature Standard",
          "Young Standard",
          "Mature Standard",
          "Young Standard",
          "Mature Standard",
          "Mature Standard",
          "Mature Standard",
          "Mature Standard",
          "Mature Standard",
          "Young Standard",
          "Young Standard",
          "Young Standard",
          "Young Standard",
          "Young Standard",
          "Mature Standard",
          "Mature Standard",
          "Mature Standard",
          "Mature Standard",
          "Young Standard",
          "Young Standard",
          "Young Standard",
          "VIPs",
          "Young Standard",
          "VIPs",
          "Careful Rich",
          "VIPs",
          "Careful Rich",
          "VIPs",
          "Careful Rich",
          "VIPs",
          "Young Standard",
          "VIPs",
          "Careful Rich",
          "VIPs",
          "Careful Rich",
          "VIPs",
          "Young Standard",
          "VIPs",
          "Careful Rich",
          "VIPs",
          "Young Standard",
          "VIPs",
          "Careful Rich",
          "VIPs",
          "Careful Rich",
          "VIPs",
          "Careful Rich",
          "VIPs",
          "Careful Rich",
          "VIPs",
          "Careful Rich",
          "VIPs",
          "Careful Rich",
          "VIPs",
          "Careful Rich",
          "VIPs",
          "Careful Rich",
          "VIPs",
          "Mature Standard",
          "VIPs",
          "Careful Rich",
          "VIPs",
          "Careful Rich",
          "VIPs",
          "Careful Rich",
          "VIPs",
          "Careful Rich",
          "VIPs",
          "Careful Rich",
          "VIPs",
          "Careful Rich",
          "VIPs",
          "Careful Rich",
          "VIPs",
          "Careful Rich",
          "VIPs",
          "Careful Rich",
          "VIPs",
          "Careful Rich",
          "VIPs",
          "Careful Rich",
          "VIPs",
          "Careful Rich",
          "VIPs",
          "Careful Rich",
          "VIPs",
          "Careful Rich",
          "VIPs",
          "Careful Rich",
          "VIPs",
          "Careful Rich",
          "VIPs",
          "Careful Rich",
          "VIPs",
          "Careful Rich",
          "VIPs",
          "Careful Rich",
          "VIPs"
         ],
         "type": "scatter",
         "x": [
          15,
          15,
          16,
          16,
          17,
          17,
          18,
          18,
          19,
          19,
          19,
          19,
          20,
          20,
          20,
          20,
          21,
          21,
          23,
          23,
          24,
          24,
          25,
          25,
          28,
          28,
          28,
          28,
          29,
          29,
          30,
          30,
          33,
          33,
          33,
          33,
          34,
          34,
          37,
          37,
          38,
          38,
          39,
          39,
          39,
          39,
          40,
          40,
          40,
          40,
          42,
          42,
          43,
          43,
          43,
          43,
          44,
          44,
          46,
          46,
          46,
          46,
          47,
          47,
          48,
          48,
          48,
          48,
          48,
          48,
          49,
          49,
          50,
          50,
          54,
          54,
          54,
          54,
          54,
          54,
          54,
          54,
          54,
          54,
          54,
          54,
          57,
          57,
          58,
          58,
          59,
          59,
          60,
          60,
          60,
          60,
          60,
          60,
          61,
          61,
          62,
          62,
          62,
          62,
          62,
          62,
          63,
          63,
          63,
          63,
          63,
          63,
          64,
          64,
          65,
          65,
          65,
          65,
          67,
          67,
          67,
          67,
          69,
          69,
          70,
          70,
          71,
          71,
          71,
          71,
          71,
          71,
          72,
          72,
          73,
          73,
          73,
          73,
          74,
          74,
          75,
          75,
          76,
          76,
          77,
          77,
          77,
          77,
          78,
          78,
          78,
          78,
          78,
          78,
          78,
          78,
          78,
          78,
          78,
          78,
          79,
          79,
          81,
          81,
          85,
          85,
          86,
          86,
          87,
          87,
          87,
          87,
          87,
          87,
          88,
          88,
          88,
          88,
          93,
          93,
          97,
          97,
          98,
          98,
          99,
          99,
          101,
          101,
          103,
          103,
          103,
          103,
          113,
          113,
          120,
          120,
          126,
          126,
          137,
          137
         ],
         "xaxis": "x2",
         "y": [
          39,
          81,
          6,
          77,
          40,
          76,
          6,
          94,
          3,
          72,
          14,
          99,
          15,
          77,
          13,
          79,
          35,
          66,
          29,
          98,
          35,
          73,
          5,
          73,
          14,
          82,
          32,
          61,
          31,
          87,
          4,
          73,
          4,
          92,
          14,
          81,
          17,
          73,
          26,
          75,
          35,
          92,
          36,
          61,
          28,
          65,
          55,
          47,
          42,
          42,
          52,
          60,
          54,
          60,
          45,
          41,
          50,
          46,
          51,
          46,
          56,
          55,
          52,
          59,
          51,
          59,
          50,
          48,
          59,
          47,
          55,
          42,
          49,
          56,
          47,
          54,
          53,
          48,
          52,
          42,
          51,
          55,
          41,
          44,
          57,
          46,
          58,
          55,
          60,
          46,
          55,
          41,
          49,
          40,
          42,
          52,
          47,
          50,
          42,
          49,
          41,
          48,
          59,
          55,
          56,
          42,
          50,
          46,
          43,
          48,
          52,
          54,
          42,
          46,
          48,
          50,
          43,
          59,
          43,
          57,
          56,
          40,
          58,
          91,
          29,
          77,
          35,
          95,
          11,
          75,
          9,
          75,
          34,
          71,
          5,
          88,
          7,
          73,
          10,
          72,
          5,
          93,
          40,
          87,
          12,
          97,
          36,
          74,
          22,
          90,
          17,
          88,
          20,
          76,
          16,
          89,
          1,
          78,
          1,
          73,
          35,
          83,
          5,
          93,
          26,
          75,
          20,
          95,
          27,
          63,
          13,
          75,
          10,
          92,
          13,
          86,
          15,
          69,
          14,
          90,
          32,
          86,
          15,
          88,
          39,
          97,
          24,
          68,
          17,
          85,
          23,
          69,
          8,
          91,
          16,
          79,
          28,
          74,
          18,
          83
         ],
         "yaxis": "y2"
        },
        {
         "boxmean": true,
         "marker": {
          "color": "orange"
         },
         "type": "box",
         "x": [
          "Bargain Lovers",
          "Bargain Lovers",
          "Low Value",
          "Bargain Lovers",
          "Low Value",
          "Bargain Lovers",
          "Low Value",
          "Bargain Lovers",
          "Low Value",
          "Bargain Lovers",
          "Low Value",
          "Bargain Lovers",
          "Low Value",
          "Bargain Lovers",
          "Low Value",
          "Bargain Lovers",
          "Low Value",
          "Bargain Lovers",
          "Low Value",
          "Bargain Lovers",
          "Low Value",
          "Bargain Lovers",
          "Low Value",
          "Bargain Lovers",
          "Low Value",
          "Bargain Lovers",
          "Low Value",
          "Bargain Lovers",
          "Low Value",
          "Bargain Lovers",
          "Low Value",
          "Bargain Lovers",
          "Low Value",
          "Bargain Lovers",
          "Low Value",
          "Bargain Lovers",
          "Low Value",
          "Bargain Lovers",
          "Low Value",
          "Bargain Lovers",
          "Mature Standard",
          "Bargain Lovers",
          "Low Value",
          "Young Standard",
          "Low Value",
          "Bargain Lovers",
          "Mature Standard",
          "Young Standard",
          "Young Standard",
          "Young Standard",
          "Mature Standard",
          "Young Standard",
          "Young Standard",
          "Mature Standard",
          "Mature Standard",
          "Mature Standard",
          "Mature Standard",
          "Mature Standard",
          "Young Standard",
          "Mature Standard",
          "Mature Standard",
          "Young Standard",
          "Mature Standard",
          "Mature Standard",
          "Mature Standard",
          "Young Standard",
          "Mature Standard",
          "Mature Standard",
          "Young Standard",
          "Young Standard",
          "Mature Standard",
          "Mature Standard",
          "Mature Standard",
          "Mature Standard",
          "Mature Standard",
          "Young Standard",
          "Mature Standard",
          "Young Standard",
          "Young Standard",
          "Mature Standard",
          "Mature Standard",
          "Young Standard",
          "Mature Standard",
          "Mature Standard",
          "Young Standard",
          "Mature Standard",
          "Mature Standard",
          "Young Standard",
          "Young Standard",
          "Mature Standard",
          "Mature Standard",
          "Young Standard",
          "Mature Standard",
          "Young Standard",
          "Young Standard",
          "Young Standard",
          "Mature Standard",
          "Young Standard",
          "Mature Standard",
          "Young Standard",
          "Young Standard",
          "Mature Standard",
          "Mature Standard",
          "Young Standard",
          "Mature Standard",
          "Young Standard",
          "Mature Standard",
          "Mature Standard",
          "Mature Standard",
          "Mature Standard",
          "Mature Standard",
          "Young Standard",
          "Young Standard",
          "Young Standard",
          "Young Standard",
          "Young Standard",
          "Mature Standard",
          "Mature Standard",
          "Mature Standard",
          "Mature Standard",
          "Young Standard",
          "Young Standard",
          "Young Standard",
          "VIPs",
          "Young Standard",
          "VIPs",
          "Careful Rich",
          "VIPs",
          "Careful Rich",
          "VIPs",
          "Careful Rich",
          "VIPs",
          "Young Standard",
          "VIPs",
          "Careful Rich",
          "VIPs",
          "Careful Rich",
          "VIPs",
          "Young Standard",
          "VIPs",
          "Careful Rich",
          "VIPs",
          "Young Standard",
          "VIPs",
          "Careful Rich",
          "VIPs",
          "Careful Rich",
          "VIPs",
          "Careful Rich",
          "VIPs",
          "Careful Rich",
          "VIPs",
          "Careful Rich",
          "VIPs",
          "Careful Rich",
          "VIPs",
          "Careful Rich",
          "VIPs",
          "Careful Rich",
          "VIPs",
          "Mature Standard",
          "VIPs",
          "Careful Rich",
          "VIPs",
          "Careful Rich",
          "VIPs",
          "Careful Rich",
          "VIPs",
          "Careful Rich",
          "VIPs",
          "Careful Rich",
          "VIPs",
          "Careful Rich",
          "VIPs",
          "Careful Rich",
          "VIPs",
          "Careful Rich",
          "VIPs",
          "Careful Rich",
          "VIPs",
          "Careful Rich",
          "VIPs",
          "Careful Rich",
          "VIPs",
          "Careful Rich",
          "VIPs",
          "Careful Rich",
          "VIPs",
          "Careful Rich",
          "VIPs",
          "Careful Rich",
          "VIPs",
          "Careful Rich",
          "VIPs",
          "Careful Rich",
          "VIPs",
          "Careful Rich",
          "VIPs",
          "Careful Rich",
          "VIPs"
         ],
         "xaxis": "x3",
         "y": [
          19,
          21,
          20,
          23,
          31,
          22,
          35,
          23,
          64,
          30,
          67,
          35,
          58,
          24,
          37,
          22,
          35,
          20,
          52,
          35,
          35,
          25,
          46,
          31,
          54,
          29,
          45,
          35,
          40,
          23,
          60,
          21,
          53,
          18,
          49,
          21,
          42,
          30,
          36,
          20,
          65,
          24,
          48,
          31,
          49,
          24,
          50,
          27,
          29,
          31,
          49,
          33,
          31,
          59,
          50,
          47,
          51,
          69,
          27,
          53,
          70,
          19,
          67,
          54,
          63,
          18,
          43,
          68,
          19,
          32,
          70,
          47,
          60,
          60,
          59,
          26,
          45,
          40,
          23,
          49,
          57,
          38,
          67,
          46,
          21,
          48,
          55,
          22,
          34,
          50,
          68,
          18,
          48,
          40,
          32,
          24,
          47,
          27,
          48,
          20,
          23,
          49,
          67,
          26,
          49,
          21,
          66,
          54,
          68,
          66,
          65,
          19,
          38,
          19,
          18,
          19,
          63,
          49,
          51,
          50,
          27,
          38,
          40,
          39,
          23,
          31,
          43,
          40,
          59,
          38,
          47,
          39,
          25,
          31,
          20,
          29,
          44,
          32,
          19,
          35,
          57,
          32,
          28,
          32,
          25,
          28,
          48,
          32,
          34,
          34,
          43,
          39,
          44,
          38,
          47,
          27,
          37,
          30,
          34,
          30,
          56,
          29,
          19,
          31,
          50,
          36,
          42,
          33,
          36,
          32,
          40,
          28,
          36,
          36,
          52,
          30,
          58,
          27,
          59,
          35,
          37,
          32,
          46,
          29,
          41,
          30,
          54,
          28,
          41,
          36,
          34,
          32,
          33,
          38,
          47,
          35,
          45,
          32,
          32,
          30
         ],
         "yaxis": "y3"
        },
        {
         "marker": {
          "color": [
           0,
           0,
           2,
           0,
           2,
           0,
           2,
           0,
           2,
           0,
           2,
           0,
           2,
           0,
           2,
           0,
           2,
           0,
           2,
           0,
           2,
           0,
           2,
           0,
           2,
           0,
           2,
           0,
           2,
           0,
           2,
           0,
           2,
           0,
           2,
           0,
           2,
           0,
           2,
           0,
           3,
           0,
           2,
           5,
           2,
           0,
           3,
           5,
           5,
           5,
           3,
           5,
           5,
           3,
           3,
           3,
           3,
           3,
           5,
           3,
           3,
           5,
           3,
           3,
           3,
           5,
           3,
           3,
           5,
           5,
           3,
           3,
           3,
           3,
           3,
           5,
           3,
           5,
           5,
           3,
           3,
           5,
           3,
           3,
           5,
           3,
           3,
           5,
           5,
           3,
           3,
           5,
           3,
           5,
           5,
           5,
           3,
           5,
           3,
           5,
           5,
           3,
           3,
           5,
           3,
           5,
           3,
           3,
           3,
           3,
           3,
           5,
           5,
           5,
           5,
           5,
           3,
           3,
           3,
           3,
           5,
           5,
           5,
           4,
           5,
           4,
           1,
           4,
           1,
           4,
           1,
           4,
           5,
           4,
           1,
           4,
           1,
           4,
           5,
           4,
           1,
           4,
           5,
           4,
           1,
           4,
           1,
           4,
           1,
           4,
           1,
           4,
           1,
           4,
           1,
           4,
           1,
           4,
           1,
           4,
           3,
           4,
           1,
           4,
           1,
           4,
           1,
           4,
           1,
           4,
           1,
           4,
           1,
           4,
           1,
           4,
           1,
           4,
           1,
           4,
           1,
           4,
           1,
           4,
           1,
           4,
           1,
           4,
           1,
           4,
           1,
           4,
           1,
           4,
           1,
           4,
           1,
           4,
           1,
           4
          ],
          "colorscale": [
           [
            0,
            "#0d0887"
           ],
           [
            0.1111111111111111,
            "#46039f"
           ],
           [
            0.2222222222222222,
            "#7201a8"
           ],
           [
            0.3333333333333333,
            "#9c179e"
           ],
           [
            0.4444444444444444,
            "#bd3786"
           ],
           [
            0.5555555555555556,
            "#d8576b"
           ],
           [
            0.6666666666666666,
            "#ed7953"
           ],
           [
            0.7777777777777778,
            "#fb9f3a"
           ],
           [
            0.8888888888888888,
            "#fdca26"
           ],
           [
            1,
            "#f0f921"
           ]
          ],
          "showscale": true,
          "size": [
           19,
           21,
           20,
           23,
           31,
           22,
           35,
           23,
           64,
           30,
           67,
           35,
           58,
           24,
           37,
           22,
           35,
           20,
           52,
           35,
           35,
           25,
           46,
           31,
           54,
           29,
           45,
           35,
           40,
           23,
           60,
           21,
           53,
           18,
           49,
           21,
           42,
           30,
           36,
           20,
           65,
           24,
           48,
           31,
           49,
           24,
           50,
           27,
           29,
           31,
           49,
           33,
           31,
           59,
           50,
           47,
           51,
           69,
           27,
           53,
           70,
           19,
           67,
           54,
           63,
           18,
           43,
           68,
           19,
           32,
           70,
           47,
           60,
           60,
           59,
           26,
           45,
           40,
           23,
           49,
           57,
           38,
           67,
           46,
           21,
           48,
           55,
           22,
           34,
           50,
           68,
           18,
           48,
           40,
           32,
           24,
           47,
           27,
           48,
           20,
           23,
           49,
           67,
           26,
           49,
           21,
           66,
           54,
           68,
           66,
           65,
           19,
           38,
           19,
           18,
           19,
           63,
           49,
           51,
           50,
           27,
           38,
           40,
           39,
           23,
           31,
           43,
           40,
           59,
           38,
           47,
           39,
           25,
           31,
           20,
           29,
           44,
           32,
           19,
           35,
           57,
           32,
           28,
           32,
           25,
           28,
           48,
           32,
           34,
           34,
           43,
           39,
           44,
           38,
           47,
           27,
           37,
           30,
           34,
           30,
           56,
           29,
           19,
           31,
           50,
           36,
           42,
           33,
           36,
           32,
           40,
           28,
           36,
           36,
           52,
           30,
           58,
           27,
           59,
           35,
           37,
           32,
           46,
           29,
           41,
           30,
           54,
           28,
           41,
           36,
           34,
           32,
           33,
           38,
           47,
           35,
           45,
           32,
           32,
           30
          ]
         },
         "mode": "markers",
         "text": [
          "Bargain Lovers",
          "Bargain Lovers",
          "Low Value",
          "Bargain Lovers",
          "Low Value",
          "Bargain Lovers",
          "Low Value",
          "Bargain Lovers",
          "Low Value",
          "Bargain Lovers",
          "Low Value",
          "Bargain Lovers",
          "Low Value",
          "Bargain Lovers",
          "Low Value",
          "Bargain Lovers",
          "Low Value",
          "Bargain Lovers",
          "Low Value",
          "Bargain Lovers",
          "Low Value",
          "Bargain Lovers",
          "Low Value",
          "Bargain Lovers",
          "Low Value",
          "Bargain Lovers",
          "Low Value",
          "Bargain Lovers",
          "Low Value",
          "Bargain Lovers",
          "Low Value",
          "Bargain Lovers",
          "Low Value",
          "Bargain Lovers",
          "Low Value",
          "Bargain Lovers",
          "Low Value",
          "Bargain Lovers",
          "Low Value",
          "Bargain Lovers",
          "Mature Standard",
          "Bargain Lovers",
          "Low Value",
          "Young Standard",
          "Low Value",
          "Bargain Lovers",
          "Mature Standard",
          "Young Standard",
          "Young Standard",
          "Young Standard",
          "Mature Standard",
          "Young Standard",
          "Young Standard",
          "Mature Standard",
          "Mature Standard",
          "Mature Standard",
          "Mature Standard",
          "Mature Standard",
          "Young Standard",
          "Mature Standard",
          "Mature Standard",
          "Young Standard",
          "Mature Standard",
          "Mature Standard",
          "Mature Standard",
          "Young Standard",
          "Mature Standard",
          "Mature Standard",
          "Young Standard",
          "Young Standard",
          "Mature Standard",
          "Mature Standard",
          "Mature Standard",
          "Mature Standard",
          "Mature Standard",
          "Young Standard",
          "Mature Standard",
          "Young Standard",
          "Young Standard",
          "Mature Standard",
          "Mature Standard",
          "Young Standard",
          "Mature Standard",
          "Mature Standard",
          "Young Standard",
          "Mature Standard",
          "Mature Standard",
          "Young Standard",
          "Young Standard",
          "Mature Standard",
          "Mature Standard",
          "Young Standard",
          "Mature Standard",
          "Young Standard",
          "Young Standard",
          "Young Standard",
          "Mature Standard",
          "Young Standard",
          "Mature Standard",
          "Young Standard",
          "Young Standard",
          "Mature Standard",
          "Mature Standard",
          "Young Standard",
          "Mature Standard",
          "Young Standard",
          "Mature Standard",
          "Mature Standard",
          "Mature Standard",
          "Mature Standard",
          "Mature Standard",
          "Young Standard",
          "Young Standard",
          "Young Standard",
          "Young Standard",
          "Young Standard",
          "Mature Standard",
          "Mature Standard",
          "Mature Standard",
          "Mature Standard",
          "Young Standard",
          "Young Standard",
          "Young Standard",
          "VIPs",
          "Young Standard",
          "VIPs",
          "Careful Rich",
          "VIPs",
          "Careful Rich",
          "VIPs",
          "Careful Rich",
          "VIPs",
          "Young Standard",
          "VIPs",
          "Careful Rich",
          "VIPs",
          "Careful Rich",
          "VIPs",
          "Young Standard",
          "VIPs",
          "Careful Rich",
          "VIPs",
          "Young Standard",
          "VIPs",
          "Careful Rich",
          "VIPs",
          "Careful Rich",
          "VIPs",
          "Careful Rich",
          "VIPs",
          "Careful Rich",
          "VIPs",
          "Careful Rich",
          "VIPs",
          "Careful Rich",
          "VIPs",
          "Careful Rich",
          "VIPs",
          "Careful Rich",
          "VIPs",
          "Mature Standard",
          "VIPs",
          "Careful Rich",
          "VIPs",
          "Careful Rich",
          "VIPs",
          "Careful Rich",
          "VIPs",
          "Careful Rich",
          "VIPs",
          "Careful Rich",
          "VIPs",
          "Careful Rich",
          "VIPs",
          "Careful Rich",
          "VIPs",
          "Careful Rich",
          "VIPs",
          "Careful Rich",
          "VIPs",
          "Careful Rich",
          "VIPs",
          "Careful Rich",
          "VIPs",
          "Careful Rich",
          "VIPs",
          "Careful Rich",
          "VIPs",
          "Careful Rich",
          "VIPs",
          "Careful Rich",
          "VIPs",
          "Careful Rich",
          "VIPs",
          "Careful Rich",
          "VIPs",
          "Careful Rich",
          "VIPs",
          "Careful Rich",
          "VIPs"
         ],
         "type": "scatter",
         "x": [
          15,
          15,
          16,
          16,
          17,
          17,
          18,
          18,
          19,
          19,
          19,
          19,
          20,
          20,
          20,
          20,
          21,
          21,
          23,
          23,
          24,
          24,
          25,
          25,
          28,
          28,
          28,
          28,
          29,
          29,
          30,
          30,
          33,
          33,
          33,
          33,
          34,
          34,
          37,
          37,
          38,
          38,
          39,
          39,
          39,
          39,
          40,
          40,
          40,
          40,
          42,
          42,
          43,
          43,
          43,
          43,
          44,
          44,
          46,
          46,
          46,
          46,
          47,
          47,
          48,
          48,
          48,
          48,
          48,
          48,
          49,
          49,
          50,
          50,
          54,
          54,
          54,
          54,
          54,
          54,
          54,
          54,
          54,
          54,
          54,
          54,
          57,
          57,
          58,
          58,
          59,
          59,
          60,
          60,
          60,
          60,
          60,
          60,
          61,
          61,
          62,
          62,
          62,
          62,
          62,
          62,
          63,
          63,
          63,
          63,
          63,
          63,
          64,
          64,
          65,
          65,
          65,
          65,
          67,
          67,
          67,
          67,
          69,
          69,
          70,
          70,
          71,
          71,
          71,
          71,
          71,
          71,
          72,
          72,
          73,
          73,
          73,
          73,
          74,
          74,
          75,
          75,
          76,
          76,
          77,
          77,
          77,
          77,
          78,
          78,
          78,
          78,
          78,
          78,
          78,
          78,
          78,
          78,
          78,
          78,
          79,
          79,
          81,
          81,
          85,
          85,
          86,
          86,
          87,
          87,
          87,
          87,
          87,
          87,
          88,
          88,
          88,
          88,
          93,
          93,
          97,
          97,
          98,
          98,
          99,
          99,
          101,
          101,
          103,
          103,
          103,
          103,
          113,
          113,
          120,
          120,
          126,
          126,
          137,
          137
         ],
         "xaxis": "x4",
         "y": [
          39,
          81,
          6,
          77,
          40,
          76,
          6,
          94,
          3,
          72,
          14,
          99,
          15,
          77,
          13,
          79,
          35,
          66,
          29,
          98,
          35,
          73,
          5,
          73,
          14,
          82,
          32,
          61,
          31,
          87,
          4,
          73,
          4,
          92,
          14,
          81,
          17,
          73,
          26,
          75,
          35,
          92,
          36,
          61,
          28,
          65,
          55,
          47,
          42,
          42,
          52,
          60,
          54,
          60,
          45,
          41,
          50,
          46,
          51,
          46,
          56,
          55,
          52,
          59,
          51,
          59,
          50,
          48,
          59,
          47,
          55,
          42,
          49,
          56,
          47,
          54,
          53,
          48,
          52,
          42,
          51,
          55,
          41,
          44,
          57,
          46,
          58,
          55,
          60,
          46,
          55,
          41,
          49,
          40,
          42,
          52,
          47,
          50,
          42,
          49,
          41,
          48,
          59,
          55,
          56,
          42,
          50,
          46,
          43,
          48,
          52,
          54,
          42,
          46,
          48,
          50,
          43,
          59,
          43,
          57,
          56,
          40,
          58,
          91,
          29,
          77,
          35,
          95,
          11,
          75,
          9,
          75,
          34,
          71,
          5,
          88,
          7,
          73,
          10,
          72,
          5,
          93,
          40,
          87,
          12,
          97,
          36,
          74,
          22,
          90,
          17,
          88,
          20,
          76,
          16,
          89,
          1,
          78,
          1,
          73,
          35,
          83,
          5,
          93,
          26,
          75,
          20,
          95,
          27,
          63,
          13,
          75,
          10,
          92,
          13,
          86,
          15,
          69,
          14,
          90,
          32,
          86,
          15,
          88,
          39,
          97,
          24,
          68,
          17,
          85,
          23,
          69,
          8,
          91,
          16,
          79,
          28,
          74,
          18,
          83
         ],
         "yaxis": "y4"
        }
       ],
       "layout": {
        "annotations": [
         {
          "font": {
           "size": 16
          },
          "showarrow": false,
          "text": "Distribution of Customer Segments",
          "x": 0.225,
          "xanchor": "center",
          "xref": "paper",
          "y": 1,
          "yanchor": "bottom",
          "yref": "paper"
         },
         {
          "font": {
           "size": 16
          },
          "showarrow": false,
          "text": "Income vs Spending",
          "x": 0.775,
          "xanchor": "center",
          "xref": "paper",
          "y": 1,
          "yanchor": "bottom",
          "yref": "paper"
         },
         {
          "font": {
           "size": 16
          },
          "showarrow": false,
          "text": "Age Distribution by Segment",
          "x": 0.225,
          "xanchor": "center",
          "xref": "paper",
          "y": 0.375,
          "yanchor": "bottom",
          "yref": "paper"
         },
         {
          "font": {
           "size": 16
          },
          "showarrow": false,
          "text": "Interactive Income vs Spending",
          "x": 0.775,
          "xanchor": "center",
          "xref": "paper",
          "y": 0.375,
          "yanchor": "bottom",
          "yref": "paper"
         }
        ],
        "height": 900,
        "showlegend": false,
        "template": {
         "data": {
          "bar": [
           {
            "error_x": {
             "color": "#2a3f5f"
            },
            "error_y": {
             "color": "#2a3f5f"
            },
            "marker": {
             "line": {
              "color": "#E5ECF6",
              "width": 0.5
             },
             "pattern": {
              "fillmode": "overlay",
              "size": 10,
              "solidity": 0.2
             }
            },
            "type": "bar"
           }
          ],
          "barpolar": [
           {
            "marker": {
             "line": {
              "color": "#E5ECF6",
              "width": 0.5
             },
             "pattern": {
              "fillmode": "overlay",
              "size": 10,
              "solidity": 0.2
             }
            },
            "type": "barpolar"
           }
          ],
          "carpet": [
           {
            "aaxis": {
             "endlinecolor": "#2a3f5f",
             "gridcolor": "white",
             "linecolor": "white",
             "minorgridcolor": "white",
             "startlinecolor": "#2a3f5f"
            },
            "baxis": {
             "endlinecolor": "#2a3f5f",
             "gridcolor": "white",
             "linecolor": "white",
             "minorgridcolor": "white",
             "startlinecolor": "#2a3f5f"
            },
            "type": "carpet"
           }
          ],
          "choropleth": [
           {
            "colorbar": {
             "outlinewidth": 0,
             "ticks": ""
            },
            "type": "choropleth"
           }
          ],
          "contour": [
           {
            "colorbar": {
             "outlinewidth": 0,
             "ticks": ""
            },
            "colorscale": [
             [
              0,
              "#0d0887"
             ],
             [
              0.1111111111111111,
              "#46039f"
             ],
             [
              0.2222222222222222,
              "#7201a8"
             ],
             [
              0.3333333333333333,
              "#9c179e"
             ],
             [
              0.4444444444444444,
              "#bd3786"
             ],
             [
              0.5555555555555556,
              "#d8576b"
             ],
             [
              0.6666666666666666,
              "#ed7953"
             ],
             [
              0.7777777777777778,
              "#fb9f3a"
             ],
             [
              0.8888888888888888,
              "#fdca26"
             ],
             [
              1,
              "#f0f921"
             ]
            ],
            "type": "contour"
           }
          ],
          "contourcarpet": [
           {
            "colorbar": {
             "outlinewidth": 0,
             "ticks": ""
            },
            "type": "contourcarpet"
           }
          ],
          "heatmap": [
           {
            "colorbar": {
             "outlinewidth": 0,
             "ticks": ""
            },
            "colorscale": [
             [
              0,
              "#0d0887"
             ],
             [
              0.1111111111111111,
              "#46039f"
             ],
             [
              0.2222222222222222,
              "#7201a8"
             ],
             [
              0.3333333333333333,
              "#9c179e"
             ],
             [
              0.4444444444444444,
              "#bd3786"
             ],
             [
              0.5555555555555556,
              "#d8576b"
             ],
             [
              0.6666666666666666,
              "#ed7953"
             ],
             [
              0.7777777777777778,
              "#fb9f3a"
             ],
             [
              0.8888888888888888,
              "#fdca26"
             ],
             [
              1,
              "#f0f921"
             ]
            ],
            "type": "heatmap"
           }
          ],
          "heatmapgl": [
           {
            "colorbar": {
             "outlinewidth": 0,
             "ticks": ""
            },
            "colorscale": [
             [
              0,
              "#0d0887"
             ],
             [
              0.1111111111111111,
              "#46039f"
             ],
             [
              0.2222222222222222,
              "#7201a8"
             ],
             [
              0.3333333333333333,
              "#9c179e"
             ],
             [
              0.4444444444444444,
              "#bd3786"
             ],
             [
              0.5555555555555556,
              "#d8576b"
             ],
             [
              0.6666666666666666,
              "#ed7953"
             ],
             [
              0.7777777777777778,
              "#fb9f3a"
             ],
             [
              0.8888888888888888,
              "#fdca26"
             ],
             [
              1,
              "#f0f921"
             ]
            ],
            "type": "heatmapgl"
           }
          ],
          "histogram": [
           {
            "marker": {
             "pattern": {
              "fillmode": "overlay",
              "size": 10,
              "solidity": 0.2
             }
            },
            "type": "histogram"
           }
          ],
          "histogram2d": [
           {
            "colorbar": {
             "outlinewidth": 0,
             "ticks": ""
            },
            "colorscale": [
             [
              0,
              "#0d0887"
             ],
             [
              0.1111111111111111,
              "#46039f"
             ],
             [
              0.2222222222222222,
              "#7201a8"
             ],
             [
              0.3333333333333333,
              "#9c179e"
             ],
             [
              0.4444444444444444,
              "#bd3786"
             ],
             [
              0.5555555555555556,
              "#d8576b"
             ],
             [
              0.6666666666666666,
              "#ed7953"
             ],
             [
              0.7777777777777778,
              "#fb9f3a"
             ],
             [
              0.8888888888888888,
              "#fdca26"
             ],
             [
              1,
              "#f0f921"
             ]
            ],
            "type": "histogram2d"
           }
          ],
          "histogram2dcontour": [
           {
            "colorbar": {
             "outlinewidth": 0,
             "ticks": ""
            },
            "colorscale": [
             [
              0,
              "#0d0887"
             ],
             [
              0.1111111111111111,
              "#46039f"
             ],
             [
              0.2222222222222222,
              "#7201a8"
             ],
             [
              0.3333333333333333,
              "#9c179e"
             ],
             [
              0.4444444444444444,
              "#bd3786"
             ],
             [
              0.5555555555555556,
              "#d8576b"
             ],
             [
              0.6666666666666666,
              "#ed7953"
             ],
             [
              0.7777777777777778,
              "#fb9f3a"
             ],
             [
              0.8888888888888888,
              "#fdca26"
             ],
             [
              1,
              "#f0f921"
             ]
            ],
            "type": "histogram2dcontour"
           }
          ],
          "mesh3d": [
           {
            "colorbar": {
             "outlinewidth": 0,
             "ticks": ""
            },
            "type": "mesh3d"
           }
          ],
          "parcoords": [
           {
            "line": {
             "colorbar": {
              "outlinewidth": 0,
              "ticks": ""
             }
            },
            "type": "parcoords"
           }
          ],
          "pie": [
           {
            "automargin": true,
            "type": "pie"
           }
          ],
          "scatter": [
           {
            "fillpattern": {
             "fillmode": "overlay",
             "size": 10,
             "solidity": 0.2
            },
            "type": "scatter"
           }
          ],
          "scatter3d": [
           {
            "line": {
             "colorbar": {
              "outlinewidth": 0,
              "ticks": ""
             }
            },
            "marker": {
             "colorbar": {
              "outlinewidth": 0,
              "ticks": ""
             }
            },
            "type": "scatter3d"
           }
          ],
          "scattercarpet": [
           {
            "marker": {
             "colorbar": {
              "outlinewidth": 0,
              "ticks": ""
             }
            },
            "type": "scattercarpet"
           }
          ],
          "scattergeo": [
           {
            "marker": {
             "colorbar": {
              "outlinewidth": 0,
              "ticks": ""
             }
            },
            "type": "scattergeo"
           }
          ],
          "scattergl": [
           {
            "marker": {
             "colorbar": {
              "outlinewidth": 0,
              "ticks": ""
             }
            },
            "type": "scattergl"
           }
          ],
          "scattermapbox": [
           {
            "marker": {
             "colorbar": {
              "outlinewidth": 0,
              "ticks": ""
             }
            },
            "type": "scattermapbox"
           }
          ],
          "scatterpolar": [
           {
            "marker": {
             "colorbar": {
              "outlinewidth": 0,
              "ticks": ""
             }
            },
            "type": "scatterpolar"
           }
          ],
          "scatterpolargl": [
           {
            "marker": {
             "colorbar": {
              "outlinewidth": 0,
              "ticks": ""
             }
            },
            "type": "scatterpolargl"
           }
          ],
          "scatterternary": [
           {
            "marker": {
             "colorbar": {
              "outlinewidth": 0,
              "ticks": ""
             }
            },
            "type": "scatterternary"
           }
          ],
          "surface": [
           {
            "colorbar": {
             "outlinewidth": 0,
             "ticks": ""
            },
            "colorscale": [
             [
              0,
              "#0d0887"
             ],
             [
              0.1111111111111111,
              "#46039f"
             ],
             [
              0.2222222222222222,
              "#7201a8"
             ],
             [
              0.3333333333333333,
              "#9c179e"
             ],
             [
              0.4444444444444444,
              "#bd3786"
             ],
             [
              0.5555555555555556,
              "#d8576b"
             ],
             [
              0.6666666666666666,
              "#ed7953"
             ],
             [
              0.7777777777777778,
              "#fb9f3a"
             ],
             [
              0.8888888888888888,
              "#fdca26"
             ],
             [
              1,
              "#f0f921"
             ]
            ],
            "type": "surface"
           }
          ],
          "table": [
           {
            "cells": {
             "fill": {
              "color": "#EBF0F8"
             },
             "line": {
              "color": "white"
             }
            },
            "header": {
             "fill": {
              "color": "#C8D4E3"
             },
             "line": {
              "color": "white"
             }
            },
            "type": "table"
           }
          ]
         },
         "layout": {
          "annotationdefaults": {
           "arrowcolor": "#2a3f5f",
           "arrowhead": 0,
           "arrowwidth": 1
          },
          "autotypenumbers": "strict",
          "coloraxis": {
           "colorbar": {
            "outlinewidth": 0,
            "ticks": ""
           }
          },
          "colorscale": {
           "diverging": [
            [
             0,
             "#8e0152"
            ],
            [
             0.1,
             "#c51b7d"
            ],
            [
             0.2,
             "#de77ae"
            ],
            [
             0.3,
             "#f1b6da"
            ],
            [
             0.4,
             "#fde0ef"
            ],
            [
             0.5,
             "#f7f7f7"
            ],
            [
             0.6,
             "#e6f5d0"
            ],
            [
             0.7,
             "#b8e186"
            ],
            [
             0.8,
             "#7fbc41"
            ],
            [
             0.9,
             "#4d9221"
            ],
            [
             1,
             "#276419"
            ]
           ],
           "sequential": [
            [
             0,
             "#0d0887"
            ],
            [
             0.1111111111111111,
             "#46039f"
            ],
            [
             0.2222222222222222,
             "#7201a8"
            ],
            [
             0.3333333333333333,
             "#9c179e"
            ],
            [
             0.4444444444444444,
             "#bd3786"
            ],
            [
             0.5555555555555556,
             "#d8576b"
            ],
            [
             0.6666666666666666,
             "#ed7953"
            ],
            [
             0.7777777777777778,
             "#fb9f3a"
            ],
            [
             0.8888888888888888,
             "#fdca26"
            ],
            [
             1,
             "#f0f921"
            ]
           ],
           "sequentialminus": [
            [
             0,
             "#0d0887"
            ],
            [
             0.1111111111111111,
             "#46039f"
            ],
            [
             0.2222222222222222,
             "#7201a8"
            ],
            [
             0.3333333333333333,
             "#9c179e"
            ],
            [
             0.4444444444444444,
             "#bd3786"
            ],
            [
             0.5555555555555556,
             "#d8576b"
            ],
            [
             0.6666666666666666,
             "#ed7953"
            ],
            [
             0.7777777777777778,
             "#fb9f3a"
            ],
            [
             0.8888888888888888,
             "#fdca26"
            ],
            [
             1,
             "#f0f921"
            ]
           ]
          },
          "colorway": [
           "#636efa",
           "#EF553B",
           "#00cc96",
           "#ab63fa",
           "#FFA15A",
           "#19d3f3",
           "#FF6692",
           "#B6E880",
           "#FF97FF",
           "#FECB52"
          ],
          "font": {
           "color": "#2a3f5f"
          },
          "geo": {
           "bgcolor": "white",
           "lakecolor": "white",
           "landcolor": "#E5ECF6",
           "showlakes": true,
           "showland": true,
           "subunitcolor": "white"
          },
          "hoverlabel": {
           "align": "left"
          },
          "hovermode": "closest",
          "mapbox": {
           "style": "light"
          },
          "paper_bgcolor": "white",
          "plot_bgcolor": "#E5ECF6",
          "polar": {
           "angularaxis": {
            "gridcolor": "white",
            "linecolor": "white",
            "ticks": ""
           },
           "bgcolor": "#E5ECF6",
           "radialaxis": {
            "gridcolor": "white",
            "linecolor": "white",
            "ticks": ""
           }
          },
          "scene": {
           "xaxis": {
            "backgroundcolor": "#E5ECF6",
            "gridcolor": "white",
            "gridwidth": 2,
            "linecolor": "white",
            "showbackground": true,
            "ticks": "",
            "zerolinecolor": "white"
           },
           "yaxis": {
            "backgroundcolor": "#E5ECF6",
            "gridcolor": "white",
            "gridwidth": 2,
            "linecolor": "white",
            "showbackground": true,
            "ticks": "",
            "zerolinecolor": "white"
           },
           "zaxis": {
            "backgroundcolor": "#E5ECF6",
            "gridcolor": "white",
            "gridwidth": 2,
            "linecolor": "white",
            "showbackground": true,
            "ticks": "",
            "zerolinecolor": "white"
           }
          },
          "shapedefaults": {
           "line": {
            "color": "#2a3f5f"
           }
          },
          "ternary": {
           "aaxis": {
            "gridcolor": "white",
            "linecolor": "white",
            "ticks": ""
           },
           "baxis": {
            "gridcolor": "white",
            "linecolor": "white",
            "ticks": ""
           },
           "bgcolor": "#E5ECF6",
           "caxis": {
            "gridcolor": "white",
            "linecolor": "white",
            "ticks": ""
           }
          },
          "title": {
           "x": 0.05
          },
          "xaxis": {
           "automargin": true,
           "gridcolor": "white",
           "linecolor": "white",
           "ticks": "",
           "title": {
            "standoff": 15
           },
           "zerolinecolor": "white",
           "zerolinewidth": 2
          },
          "yaxis": {
           "automargin": true,
           "gridcolor": "white",
           "linecolor": "white",
           "ticks": "",
           "title": {
            "standoff": 15
           },
           "zerolinecolor": "white",
           "zerolinewidth": 2
          }
         }
        },
        "title": {
         "text": "Customer Segmentation Dashboard"
        },
        "width": 1200,
        "xaxis": {
         "anchor": "y",
         "domain": [
          0,
          0.45
         ]
        },
        "xaxis2": {
         "anchor": "y2",
         "domain": [
          0.55,
          1
         ]
        },
        "xaxis3": {
         "anchor": "y3",
         "domain": [
          0,
          0.45
         ]
        },
        "xaxis4": {
         "anchor": "y4",
         "domain": [
          0.55,
          1
         ]
        },
        "yaxis": {
         "anchor": "x",
         "domain": [
          0.625,
          1
         ]
        },
        "yaxis2": {
         "anchor": "x2",
         "domain": [
          0.625,
          1
         ]
        },
        "yaxis3": {
         "anchor": "x3",
         "domain": [
          0,
          0.375
         ]
        },
        "yaxis4": {
         "anchor": "x4",
         "domain": [
          0,
          0.375
         ]
        }
       }
      }
     },
     "metadata": {},
     "output_type": "display_data"
    }
   ],
   "source": [
    "from plotly.subplots import make_subplots\n",
    "import plotly.graph_objects as go\n",
    "\n",
    "# Create subplot layout: 2 rows × 2 columns\n",
    "fig = make_subplots(\n",
    "    rows=2, cols=2,\n",
    "    subplot_titles=(\n",
    "        \"Distribution of Customer Segments\",\n",
    "        \"Income vs Spending\",\n",
    "        \"Age Distribution by Segment\",\n",
    "        \"Interactive Income vs Spending\"\n",
    "    )\n",
    ")\n",
    "\n",
    "# 1. Distribution (Bar chart)\n",
    "segment_counts = df[\"Customer Segment\"].value_counts()\n",
    "fig.add_trace(\n",
    "    go.Bar(x=segment_counts.index, y=segment_counts.values, marker=dict(color=\"teal\")),\n",
    "    row=1, col=1\n",
    ")\n",
    "\n",
    "# 2. Scatter: Income vs Spending\n",
    "fig.add_trace(\n",
    "    go.Scatter(\n",
    "        x=df[\"Annual Income (k$)\"], y=df[\"Spending Score (1-100)\"],\n",
    "        mode=\"markers\", marker=dict(color=df[\"Customer Segment\"].astype(\"category\").cat.codes, colorscale=\"Viridis\"),\n",
    "        text=df[\"Customer Segment\"]\n",
    "    ),\n",
    "    row=1, col=2\n",
    ")\n",
    "\n",
    "# 3. Boxplot: Age distribution\n",
    "fig.add_trace(\n",
    "    go.Box(x=df[\"Customer Segment\"], y=df[\"Age\"], boxmean=True, marker=dict(color=\"orange\")),\n",
    "    row=2, col=1\n",
    ")\n",
    "\n",
    "# 4. Interactive Scatter (bubble plot)\n",
    "fig.add_trace(\n",
    "    go.Scatter(\n",
    "        x=df[\"Annual Income (k$)\"], y=df[\"Spending Score (1-100)\"],\n",
    "        mode=\"markers\",\n",
    "        marker=dict(size=df[\"Age\"], color=df[\"Customer Segment\"].astype(\"category\").cat.codes, colorscale=\"Plasma\", showscale=True),\n",
    "        text=df[\"Customer Segment\"]\n",
    "    ),\n",
    "    row=2, col=2\n",
    ")\n",
    "\n",
    "# Layout styling\n",
    "fig.update_layout(\n",
    "    height=900, width=1200,\n",
    "    title_text=\"Customer Segmentation Dashboard\",\n",
    "    showlegend=False\n",
    ")\n",
    "\n",
    "fig.show()\n"
   ]
  },
  {
   "cell_type": "code",
   "execution_count": 12,
   "id": "9beac7ce",
   "metadata": {},
   "outputs": [
    {
     "data": {
      "image/png": "[encoded data removed]",
      "text/plain": [
       "<Figure size 1200x700 with 1 Axes>"
      ]
     },
     "metadata": {},
     "output_type": "display_data"
    }
   ],
   "source": [
    "\n",
    "insights = {\n",
    "    \"Cluster 1\": \"High income, low spending → Potential customers to target with marketing.\",\n",
    "    \"Cluster 2\": \"Young with high spending → Loyal customers, should be retained.\",\n",
    "    \"Cluster 3\": \"Low income, low spending → Less profitable group.\",\n",
    "    \"Cluster 4\": \"Moderate income, average spending → Can be nurtured with promotions.\",\n",
    "    \"Cluster 5\": \"Young, low income but high spending → Trend-sensitive customers.\",\n",
    "    \"Cluster 6\": \"Older, low spending → Low priority for marketing.\"\n",
    "}\n",
    "\n",
    "\n",
    "colors = [\"#FF9999\", \"#66B3FF\", \"#99FF99\", \"#FFCC99\", \"#FFD700\", \"#C0C0C0\"]\n",
    "\n",
    "\n",
    "plt.figure(figsize=(12, 7))\n",
    "for i, (cluster, text) in enumerate(insights.items()):\n",
    "    plt.text(\n",
    "        0.05, \n",
    "        0.9 - i*0.15, \n",
    "        f\"{cluster}: {text}\", \n",
    "        fontsize=12, \n",
    "        bbox=dict(facecolor=colors[i], alpha=0.6, boxstyle=\"round,pad=0.5\")\n",
    "    )\n",
    "\n",
    "plt.axis(\"off\")\n",
    "plt.title(\"Business Insights from Customer Segmentation\", fontsize=16, fontweight=\"bold\")\n",
    "plt.show()\n"
   ]
  }
 ],
 "metadata": {
  "kernelspec": {
   "display_name": "base",
   "language": "python",
   "name": "python3"
  },
  "language_info": {
   "codemirror_mode": {
    "name": "ipython",
    "version": 3
   },
   "file_extension": ".py",
   "mimetype": "text/x-python",
   "name": "python",
   "nbconvert_exporter": "python",
   "pygments_lexer": "ipython3",
   "version": "3.13.5"
  }
 },
 "nbformat": 4,
 "nbformat_minor": 5
}
